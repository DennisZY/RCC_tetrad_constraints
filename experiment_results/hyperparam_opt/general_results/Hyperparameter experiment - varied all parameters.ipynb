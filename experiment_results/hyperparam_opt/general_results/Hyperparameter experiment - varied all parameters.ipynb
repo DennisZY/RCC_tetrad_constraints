{
 "cells": [
  {
   "cell_type": "code",
   "execution_count": 2,
   "metadata": {},
   "outputs": [],
   "source": [
    "import pandas as pd\n",
    "import numpy as np\n",
    "import tabulate\n",
    "import matplotlib.pyplot as plt\n",
    "import seaborn as sns"
   ]
  },
  {
   "cell_type": "markdown",
   "metadata": {},
   "source": [
    "Read in data"
   ]
  },
  {
   "cell_type": "code",
   "execution_count": 49,
   "metadata": {},
   "outputs": [],
   "source": [
    "results = pd.read_csv('experiment_general_results.csv')\n",
    "#wish_results = pd.read_csv('wishart_experiment_samplesize_results.csv')\n",
    "wish_results = pd.read_csv('wishart_experiments/wishart_experiment_adjusted_wish_minimal_results2.csv')"
   ]
  },
  {
   "cell_type": "markdown",
   "metadata": {},
   "source": [
    "Import KME results in correct format and extract true positive and false positive rates."
   ]
  },
  {
   "cell_type": "code",
   "execution_count": 21,
   "metadata": {},
   "outputs": [],
   "source": [
    "results_mean = results.groupby(['b','d','KME','E','K','n_samples','n_distributions']).mean()\n",
    "results_mean.insert(1, 'acc_std', results.groupby(['b','d','KME','E','K','n_samples','n_distributions'])[['score']].std())\n",
    "#print(results_mean.reset_index().to_markdown())"
   ]
  },
  {
   "cell_type": "code",
   "execution_count": 22,
   "metadata": {},
   "outputs": [],
   "source": [
    "true_pos = results_mean['truepos'] / (results_mean['truepos'] + results_mean['falseneg'])\n",
    "false_pos = results_mean['falsepos'] / (results_mean['falsepos'] + results_mean['trueneg'])"
   ]
  },
  {
   "cell_type": "markdown",
   "metadata": {},
   "source": [
    "Import Wishart results in correect format and extract true positive and false positive rates."
   ]
  },
  {
   "cell_type": "code",
   "execution_count": 50,
   "metadata": {},
   "outputs": [],
   "source": [
    "wish_results_lin = wish_results[wish_results['linear'] == True] \n",
    "wish_results_nonlin = wish_results[wish_results['linear'] == False] "
   ]
  },
  {
   "cell_type": "code",
   "execution_count": 51,
   "metadata": {},
   "outputs": [],
   "source": [
    "wish_results_lin_mean = wish_results_lin.groupby(['b','d','nsamples']).mean()\n",
    "wish_results_lin_mean.insert(2, 'acc_std', wish_results_lin.groupby(['b','d','nsamples'])[['accuracy']].std())\n",
    "wish_results_nonlin_mean = wish_results_nonlin.groupby(['b','d','nsamples']).mean()\n",
    "wish_results_nonlin_mean.insert(2, 'acc_std', wish_results_nonlin.groupby(['b','d','nsamples'])[['accuracy']].std())"
   ]
  },
  {
   "cell_type": "code",
   "execution_count": 52,
   "metadata": {},
   "outputs": [],
   "source": [
    "true_pos_wish_lin = wish_results_lin_mean['truepos'] / (wish_results_lin_mean['truepos'] + wish_results_lin_mean['falseneg'])\n",
    "false_pos_wish_lin = wish_results_lin_mean['falsepos'] / (wish_results_lin_mean['falsepos'] + wish_results_lin_mean['trueneg'])\n",
    "true_pos_wish_nonlin = wish_results_nonlin_mean['truepos'] / (wish_results_nonlin_mean['truepos'] + wish_results_nonlin_mean['falseneg'])\n",
    "false_pos_wish_nonlin = wish_results_nonlin_mean['falsepos'] / (wish_results_nonlin_mean['falsepos'] + wish_results_nonlin_mean['trueneg'])\n"
   ]
  },
  {
   "cell_type": "code",
   "execution_count": 36,
   "metadata": {
    "scrolled": true
   },
   "outputs": [
    {
     "data": {
      "text/plain": [
       "b     d     nsamples\n",
       "0.01  0.01  200         0.661175\n",
       "            500         0.438237\n",
       "            1000        0.357605\n",
       "            2000        0.290554\n",
       "            10000       0.251186\n",
       "      0.05  200         0.648881\n",
       "            500         0.450938\n",
       "            1000        0.373492\n",
       "            2000        0.288497\n",
       "            10000       0.247209\n",
       "0.05  0.01  200         0.665401\n",
       "            500         0.459322\n",
       "            1000        0.356023\n",
       "            2000        0.291345\n",
       "            10000       0.243525\n",
       "      0.05  200         0.646599\n",
       "            500         0.437695\n",
       "            1000        0.356701\n",
       "            2000        0.287684\n",
       "            10000       0.222893\n",
       "dtype: float64"
      ]
     },
     "execution_count": 36,
     "metadata": {},
     "output_type": "execute_result"
    }
   ],
   "source": [
    "false_pos_wish_nonlin"
   ]
  },
  {
   "cell_type": "code",
   "execution_count": 28,
   "metadata": {},
   "outputs": [
    {
     "data": {
      "text/plain": [
       "b     d     nsamples\n",
       "0.01  0.01  200         0.965000\n",
       "            500         0.944667\n",
       "            1000        0.909933\n",
       "            2000        0.895533\n",
       "            10000       0.886033\n",
       "      0.05  200         0.969667\n",
       "            500         0.939667\n",
       "            1000        0.917800\n",
       "            2000        0.900167\n",
       "            10000       0.885500\n",
       "0.05  0.01  200         0.969733\n",
       "            500         0.943867\n",
       "            1000        0.910833\n",
       "            2000        0.893000\n",
       "            10000       0.867600\n",
       "      0.05  200         0.969733\n",
       "            500         0.939533\n",
       "            1000        0.903233\n",
       "            2000        0.879667\n",
       "            10000       0.795833\n",
       "dtype: float64"
      ]
     },
     "execution_count": 28,
     "metadata": {},
     "output_type": "execute_result"
    }
   ],
   "source": [
    "true_pos_wish_nonlin"
   ]
  },
  {
   "cell_type": "code",
   "execution_count": 29,
   "metadata": {},
   "outputs": [
    {
     "data": {
      "text/html": [
       "<div>\n",
       "<style scoped>\n",
       "    .dataframe tbody tr th:only-of-type {\n",
       "        vertical-align: middle;\n",
       "    }\n",
       "\n",
       "    .dataframe tbody tr th {\n",
       "        vertical-align: top;\n",
       "    }\n",
       "\n",
       "    .dataframe thead th {\n",
       "        text-align: right;\n",
       "    }\n",
       "</style>\n",
       "<table border=\"1\" class=\"dataframe\">\n",
       "  <thead>\n",
       "    <tr style=\"text-align: right;\">\n",
       "      <th></th>\n",
       "      <th>b</th>\n",
       "      <th>d</th>\n",
       "      <th>KME</th>\n",
       "      <th>E</th>\n",
       "      <th>K</th>\n",
       "      <th>n_samples</th>\n",
       "      <th>n_distributions</th>\n",
       "      <th>0</th>\n",
       "    </tr>\n",
       "  </thead>\n",
       "  <tbody>\n",
       "    <tr>\n",
       "      <th>b</th>\n",
       "      <td>1.000000e+00</td>\n",
       "      <td>9.946886e-16</td>\n",
       "      <td>NaN</td>\n",
       "      <td>-5.482863e-17</td>\n",
       "      <td>-1.661474e-18</td>\n",
       "      <td>-1.489109e-18</td>\n",
       "      <td>0.000000e+00</td>\n",
       "      <td>0.020537</td>\n",
       "    </tr>\n",
       "    <tr>\n",
       "      <th>d</th>\n",
       "      <td>9.946886e-16</td>\n",
       "      <td>1.000000e+00</td>\n",
       "      <td>NaN</td>\n",
       "      <td>4.652126e-17</td>\n",
       "      <td>1.262720e-16</td>\n",
       "      <td>2.829307e-17</td>\n",
       "      <td>0.000000e+00</td>\n",
       "      <td>-0.173404</td>\n",
       "    </tr>\n",
       "    <tr>\n",
       "      <th>KME</th>\n",
       "      <td>NaN</td>\n",
       "      <td>NaN</td>\n",
       "      <td>NaN</td>\n",
       "      <td>NaN</td>\n",
       "      <td>NaN</td>\n",
       "      <td>NaN</td>\n",
       "      <td>NaN</td>\n",
       "      <td>NaN</td>\n",
       "    </tr>\n",
       "    <tr>\n",
       "      <th>E</th>\n",
       "      <td>-5.482863e-17</td>\n",
       "      <td>4.652126e-17</td>\n",
       "      <td>NaN</td>\n",
       "      <td>1.000000e+00</td>\n",
       "      <td>-1.468391e-16</td>\n",
       "      <td>-1.922330e-17</td>\n",
       "      <td>-4.659769e-18</td>\n",
       "      <td>0.017332</td>\n",
       "    </tr>\n",
       "    <tr>\n",
       "      <th>K</th>\n",
       "      <td>-1.661474e-18</td>\n",
       "      <td>1.262720e-16</td>\n",
       "      <td>NaN</td>\n",
       "      <td>-1.468391e-16</td>\n",
       "      <td>1.000000e+00</td>\n",
       "      <td>-1.478716e-18</td>\n",
       "      <td>0.000000e+00</td>\n",
       "      <td>0.099202</td>\n",
       "    </tr>\n",
       "    <tr>\n",
       "      <th>n_samples</th>\n",
       "      <td>-1.489109e-18</td>\n",
       "      <td>2.829307e-17</td>\n",
       "      <td>NaN</td>\n",
       "      <td>-1.922330e-17</td>\n",
       "      <td>-1.478716e-18</td>\n",
       "      <td>1.000000e+00</td>\n",
       "      <td>-1.193245e-18</td>\n",
       "      <td>-0.629908</td>\n",
       "    </tr>\n",
       "    <tr>\n",
       "      <th>n_distributions</th>\n",
       "      <td>0.000000e+00</td>\n",
       "      <td>0.000000e+00</td>\n",
       "      <td>NaN</td>\n",
       "      <td>-4.659769e-18</td>\n",
       "      <td>0.000000e+00</td>\n",
       "      <td>-1.193245e-18</td>\n",
       "      <td>1.000000e+00</td>\n",
       "      <td>0.107656</td>\n",
       "    </tr>\n",
       "    <tr>\n",
       "      <th>0</th>\n",
       "      <td>2.053720e-02</td>\n",
       "      <td>-1.734043e-01</td>\n",
       "      <td>NaN</td>\n",
       "      <td>1.733231e-02</td>\n",
       "      <td>9.920247e-02</td>\n",
       "      <td>-6.299078e-01</td>\n",
       "      <td>1.076555e-01</td>\n",
       "      <td>1.000000</td>\n",
       "    </tr>\n",
       "  </tbody>\n",
       "</table>\n",
       "</div>"
      ],
      "text/plain": [
       "                            b             d  KME             E             K  \\\n",
       "b                1.000000e+00  9.946886e-16  NaN -5.482863e-17 -1.661474e-18   \n",
       "d                9.946886e-16  1.000000e+00  NaN  4.652126e-17  1.262720e-16   \n",
       "KME                       NaN           NaN  NaN           NaN           NaN   \n",
       "E               -5.482863e-17  4.652126e-17  NaN  1.000000e+00 -1.468391e-16   \n",
       "K               -1.661474e-18  1.262720e-16  NaN -1.468391e-16  1.000000e+00   \n",
       "n_samples       -1.489109e-18  2.829307e-17  NaN -1.922330e-17 -1.478716e-18   \n",
       "n_distributions  0.000000e+00  0.000000e+00  NaN -4.659769e-18  0.000000e+00   \n",
       "0                2.053720e-02 -1.734043e-01  NaN  1.733231e-02  9.920247e-02   \n",
       "\n",
       "                    n_samples  n_distributions         0  \n",
       "b               -1.489109e-18     0.000000e+00  0.020537  \n",
       "d                2.829307e-17     0.000000e+00 -0.173404  \n",
       "KME                       NaN              NaN       NaN  \n",
       "E               -1.922330e-17    -4.659769e-18  0.017332  \n",
       "K               -1.478716e-18     0.000000e+00  0.099202  \n",
       "n_samples        1.000000e+00    -1.193245e-18 -0.629908  \n",
       "n_distributions -1.193245e-18     1.000000e+00  0.107656  \n",
       "0               -6.299078e-01     1.076555e-01  1.000000  "
      ]
     },
     "execution_count": 29,
     "metadata": {},
     "output_type": "execute_result"
    }
   ],
   "source": [
    "true_pos.reset_index().corr()"
   ]
  },
  {
   "cell_type": "code",
   "execution_count": 30,
   "metadata": {
    "scrolled": true
   },
   "outputs": [
    {
     "data": {
      "text/html": [
       "<div>\n",
       "<style scoped>\n",
       "    .dataframe tbody tr th:only-of-type {\n",
       "        vertical-align: middle;\n",
       "    }\n",
       "\n",
       "    .dataframe tbody tr th {\n",
       "        vertical-align: top;\n",
       "    }\n",
       "\n",
       "    .dataframe thead th {\n",
       "        text-align: right;\n",
       "    }\n",
       "</style>\n",
       "<table border=\"1\" class=\"dataframe\">\n",
       "  <thead>\n",
       "    <tr style=\"text-align: right;\">\n",
       "      <th></th>\n",
       "      <th>b</th>\n",
       "      <th>d</th>\n",
       "      <th>KME</th>\n",
       "      <th>E</th>\n",
       "      <th>K</th>\n",
       "      <th>n_samples</th>\n",
       "      <th>n_distributions</th>\n",
       "      <th>0</th>\n",
       "    </tr>\n",
       "  </thead>\n",
       "  <tbody>\n",
       "    <tr>\n",
       "      <th>b</th>\n",
       "      <td>1.000000e+00</td>\n",
       "      <td>9.946886e-16</td>\n",
       "      <td>NaN</td>\n",
       "      <td>-5.482863e-17</td>\n",
       "      <td>-1.661474e-18</td>\n",
       "      <td>-1.489109e-18</td>\n",
       "      <td>0.000000e+00</td>\n",
       "      <td>0.011217</td>\n",
       "    </tr>\n",
       "    <tr>\n",
       "      <th>d</th>\n",
       "      <td>9.946886e-16</td>\n",
       "      <td>1.000000e+00</td>\n",
       "      <td>NaN</td>\n",
       "      <td>4.652126e-17</td>\n",
       "      <td>1.262720e-16</td>\n",
       "      <td>2.829307e-17</td>\n",
       "      <td>0.000000e+00</td>\n",
       "      <td>-0.111579</td>\n",
       "    </tr>\n",
       "    <tr>\n",
       "      <th>KME</th>\n",
       "      <td>NaN</td>\n",
       "      <td>NaN</td>\n",
       "      <td>NaN</td>\n",
       "      <td>NaN</td>\n",
       "      <td>NaN</td>\n",
       "      <td>NaN</td>\n",
       "      <td>NaN</td>\n",
       "      <td>NaN</td>\n",
       "    </tr>\n",
       "    <tr>\n",
       "      <th>E</th>\n",
       "      <td>-5.482863e-17</td>\n",
       "      <td>4.652126e-17</td>\n",
       "      <td>NaN</td>\n",
       "      <td>1.000000e+00</td>\n",
       "      <td>-1.468391e-16</td>\n",
       "      <td>-1.922330e-17</td>\n",
       "      <td>-4.659769e-18</td>\n",
       "      <td>-0.006478</td>\n",
       "    </tr>\n",
       "    <tr>\n",
       "      <th>K</th>\n",
       "      <td>-1.661474e-18</td>\n",
       "      <td>1.262720e-16</td>\n",
       "      <td>NaN</td>\n",
       "      <td>-1.468391e-16</td>\n",
       "      <td>1.000000e+00</td>\n",
       "      <td>-1.478716e-18</td>\n",
       "      <td>0.000000e+00</td>\n",
       "      <td>0.221616</td>\n",
       "    </tr>\n",
       "    <tr>\n",
       "      <th>n_samples</th>\n",
       "      <td>-1.489109e-18</td>\n",
       "      <td>2.829307e-17</td>\n",
       "      <td>NaN</td>\n",
       "      <td>-1.922330e-17</td>\n",
       "      <td>-1.478716e-18</td>\n",
       "      <td>1.000000e+00</td>\n",
       "      <td>-1.193245e-18</td>\n",
       "      <td>-0.789949</td>\n",
       "    </tr>\n",
       "    <tr>\n",
       "      <th>n_distributions</th>\n",
       "      <td>0.000000e+00</td>\n",
       "      <td>0.000000e+00</td>\n",
       "      <td>NaN</td>\n",
       "      <td>-4.659769e-18</td>\n",
       "      <td>0.000000e+00</td>\n",
       "      <td>-1.193245e-18</td>\n",
       "      <td>1.000000e+00</td>\n",
       "      <td>-0.227502</td>\n",
       "    </tr>\n",
       "    <tr>\n",
       "      <th>0</th>\n",
       "      <td>1.121709e-02</td>\n",
       "      <td>-1.115787e-01</td>\n",
       "      <td>NaN</td>\n",
       "      <td>-6.478272e-03</td>\n",
       "      <td>2.216163e-01</td>\n",
       "      <td>-7.899489e-01</td>\n",
       "      <td>-2.275016e-01</td>\n",
       "      <td>1.000000</td>\n",
       "    </tr>\n",
       "  </tbody>\n",
       "</table>\n",
       "</div>"
      ],
      "text/plain": [
       "                            b             d  KME             E             K  \\\n",
       "b                1.000000e+00  9.946886e-16  NaN -5.482863e-17 -1.661474e-18   \n",
       "d                9.946886e-16  1.000000e+00  NaN  4.652126e-17  1.262720e-16   \n",
       "KME                       NaN           NaN  NaN           NaN           NaN   \n",
       "E               -5.482863e-17  4.652126e-17  NaN  1.000000e+00 -1.468391e-16   \n",
       "K               -1.661474e-18  1.262720e-16  NaN -1.468391e-16  1.000000e+00   \n",
       "n_samples       -1.489109e-18  2.829307e-17  NaN -1.922330e-17 -1.478716e-18   \n",
       "n_distributions  0.000000e+00  0.000000e+00  NaN -4.659769e-18  0.000000e+00   \n",
       "0                1.121709e-02 -1.115787e-01  NaN -6.478272e-03  2.216163e-01   \n",
       "\n",
       "                    n_samples  n_distributions         0  \n",
       "b               -1.489109e-18     0.000000e+00  0.011217  \n",
       "d                2.829307e-17     0.000000e+00 -0.111579  \n",
       "KME                       NaN              NaN       NaN  \n",
       "E               -1.922330e-17    -4.659769e-18 -0.006478  \n",
       "K               -1.478716e-18     0.000000e+00  0.221616  \n",
       "n_samples        1.000000e+00    -1.193245e-18 -0.789949  \n",
       "n_distributions -1.193245e-18     1.000000e+00 -0.227502  \n",
       "0               -7.899489e-01    -2.275016e-01  1.000000  "
      ]
     },
     "execution_count": 30,
     "metadata": {},
     "output_type": "execute_result"
    }
   ],
   "source": [
    "false_pos.reset_index().corr()"
   ]
  },
  {
   "cell_type": "code",
   "execution_count": 48,
   "metadata": {},
   "outputs": [
    {
     "data": {
      "text/plain": [
       "b                  0.001261\n",
       "d                  0.015495\n",
       "KME                     NaN\n",
       "E                  0.025771\n",
       "K                 -0.253357\n",
       "n_samples          0.652286\n",
       "n_distributions    0.450245\n",
       "score              1.000000\n",
       "acc_std           -0.674982\n",
       "trueneg            0.831582\n",
       "falseneg           0.317914\n",
       "truepos           -0.317914\n",
       "falsepos          -0.831582\n",
       "Name: score, dtype: float64"
      ]
     },
     "execution_count": 48,
     "metadata": {},
     "output_type": "execute_result"
    }
   ],
   "source": [
    "results_mean.reset_index().corr()['score']"
   ]
  },
  {
   "cell_type": "markdown",
   "metadata": {},
   "source": [
    "### Graph displaying the True Positive Rate and False Positive Rate of the KME and Wishart test with different hyperparameters"
   ]
  },
  {
   "cell_type": "code",
   "execution_count": 53,
   "metadata": {
    "scrolled": true
   },
   "outputs": [
    {
     "data": {
      "text/plain": [
       "<matplotlib.legend.Legend at 0x7fbca15e4850>"
      ]
     },
     "execution_count": 53,
     "metadata": {},
     "output_type": "execute_result"
    },
    {
     "data": {
      "image/png": "[encoded data removed]",
      "text/plain": [
       "<Figure size 432x288 with 1 Axes>"
      ]
     },
     "metadata": {
      "needs_background": "light"
     },
     "output_type": "display_data"
    }
   ],
   "source": [
    "plt.plot(false_pos,true_pos, 'r.',label='KME')    \n",
    "plt.plot(false_pos_wish_nonlin, true_pos_wish_nonlin, 'b.',label='nonlin Wishart')\n",
    "plt.plot(false_pos_wish_lin,true_pos_wish_lin,'g.', label='lin Wishart')\n",
    "plt.plot([0,1],'k')\n",
    "plt.xlabel('False Positive Rate')\n",
    "plt.ylabel('True Positive Rate')\n",
    "plt.legend()"
   ]
  },
  {
   "cell_type": "code",
   "execution_count": null,
   "metadata": {},
   "outputs": [],
   "source": []
  }
 ],
 "metadata": {
  "kernelspec": {
   "display_name": "thesis",
   "language": "python",
   "name": "thesis"
  },
  "language_info": {
   "codemirror_mode": {
    "name": "ipython",
    "version": 3
   },
   "file_extension": ".py",
   "mimetype": "text/x-python",
   "name": "python",
   "nbconvert_exporter": "python",
   "pygments_lexer": "ipython3",
   "version": "3.8.5"
  }
 },
 "nbformat": 4,
 "nbformat_minor": 2
}
