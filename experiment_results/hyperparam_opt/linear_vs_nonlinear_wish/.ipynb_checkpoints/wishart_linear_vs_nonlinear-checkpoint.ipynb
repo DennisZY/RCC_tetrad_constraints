{
 "cells": [
  {
   "cell_type": "code",
   "execution_count": 1,
   "metadata": {},
   "outputs": [],
   "source": [
    "import pandas as pd\n",
    "import numpy as np\n",
    "import tabulate\n",
    "import matplotlib.pyplot as plt\n",
    "import seaborn as sns\n",
    "import math\n",
    "import seaborn as sns\n",
    "import itertools"
   ]
  },
  {
   "cell_type": "code",
   "execution_count": null,
   "metadata": {},
   "outputs": [],
   "source": [
    "def sens_and_spec(df):\n",
    "    sensitivity = df['truepos'] / (df['truepos'] + df['falseneg'])\n",
    "    specificity = df['trueneg'] / (df['trueneg'] + df['falsepos'])\n",
    "\n",
    "    sensitivity[np.isnan(sensitivity)] = 0\n",
    "    specificity[np.isnan(specificity)] = 0\n",
    "    return(sensitivity, specificity)\n",
    "\n",
    "def wish_mean(df):\n",
    "    df_mean = df.groupby(['linear','b','d','n_samples']).mean()\n",
    "    df_mean.insert(2, 'acc_std', df.groupby(['linear','b','d','n_samples'])[['accuracy']].std())\n",
    "    df_mean = df_mean.reset_index()\n",
    "    return(df_mean)\n",
    "    "
   ]
  },
  {
   "cell_type": "code",
   "execution_count": null,
   "metadata": {},
   "outputs": [],
   "source": [
    "results_1 = pd.read_csv('wishart_experiment_1_results.csv')\n",
    "results_3 = pd.read_csv('wishart_experiment_3_results.csv')\n",
    "results_cross = pd.read_csv('wishart_experiment_cross_construct_impure_results.csv')\n",
    "results_intra = pd.read_csv('wishart_experiment_intra_construct_impure_results.csv')\n",
    "results_latent = pd.read_csv('wishart_experiment_latent_measure_impure_results.csv')"
   ]
  },
  {
   "cell_type": "code",
   "execution_count": null,
   "metadata": {},
   "outputs": [],
   "source": [
    "results_1_mean = KME_mean(results_1)\n",
    "\n",
    "sensitivity_1, specificity_1 = sens_and_spec(results_1_mean)\n",
    "\n",
    "results_3_mean = KME_mean(results_3)\n",
    "\n",
    "sensitivity_3, specificity_3 = sens_and_spec(results_3_mean)\n",
    "\n",
    "results_cross_mean = KME_mean(results_cross)\n",
    "\n",
    "sensitivity_cross, specificity_cross = sens_and_spec(results_cross_mean)\n",
    "\n",
    "results_intra_mean = KME_mean(results_intra)\n",
    "\n",
    "sensitivity_intra, specificity_intra = sens_and_spec(results_intra_mean)\n",
    "\n",
    "results_latent_mean = KME_mean(results_latent)\n",
    "\n",
    "sensitivity_latent, specificity_latent = sens_and_spec(results_latent_mean)"
   ]
  },
  {
   "cell_type": "code",
   "execution_count": null,
   "metadata": {},
   "outputs": [],
   "source": [
    "def plot_nsamples_sns(df):\n",
    "    fig, axs = plt.subplots(2,2, sharex=True, sharey=True, figsize=(8,8))\n",
    "    #fig.subplots_adjust(hspace = 1.2, wspace=1.2)\n",
    "\n",
    "    axs = axs.ravel()\n",
    "\n",
    "    for n, samples in enumerate(df['n_samples'].unique()):\n",
    "        new_df = df[df['n_samples'] == samples]\n",
    "        sens, spec = sens_and_spec(new_df)\n",
    "\n",
    "        sns.scatterplot(x=spec, y=sens, ax=axs[n])\n",
    "        axs[n].set_title('Sample size {}'.format(samples))\n",
    "        axs[n].set(xlabel = 'Specificity', ylabel = 'Sensitivity')\n",
    "        axs[n].set_xlim([-0.05,1.05])\n",
    "        axs[n].set_ylim([-0.05,1.05])\n",
    "\n",
    "        plt.xlabel('Specificity')\n",
    "        plt.ylabel('Sensitivity')\n",
    "    \n",
    "    plt.title('KME')\n",
    "\n",
    "    \n",
    "    plt.style.use('fivethirtyeight')\n",
    "\n",
    "    plt.show"
   ]
  }
 ],
 "metadata": {
  "kernelspec": {
   "display_name": "thesis",
   "language": "python",
   "name": "thesis"
  },
  "language_info": {
   "codemirror_mode": {
    "name": "ipython",
    "version": 3
   },
   "file_extension": ".py",
   "mimetype": "text/x-python",
   "name": "python",
   "nbconvert_exporter": "python",
   "pygments_lexer": "ipython3",
   "version": "3.8.5"
  }
 },
 "nbformat": 4,
 "nbformat_minor": 2
}
