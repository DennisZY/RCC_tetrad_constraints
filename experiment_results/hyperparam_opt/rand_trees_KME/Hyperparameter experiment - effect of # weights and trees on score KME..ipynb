{
 "cells": [
  {
   "cell_type": "markdown",
   "metadata": {},
   "source": [
    "# Hyperparameter experiment - effect of # weights and trees on score KME.\n",
    "\n",
    "This is an experiment to see if the # of trees E and the # of weights K influence the score of the KME given a set amount of samples and nonlinearity. The reason for this experiment is that the Wishart test performs increasingly well when given a larger amount of samples per variable. I wanted to see if a larger amount of samples per variable could also have a positive effect on the KME score. Each mean score represent 10 test cases. "
   ]
  },
  {
   "cell_type": "code",
   "execution_count": 1,
   "metadata": {},
   "outputs": [
    {
     "ename": "ModuleNotFoundError",
     "evalue": "No module named 'tabulate'",
     "output_type": "error",
     "traceback": [
      "\u001b[0;31m---------------------------------------------------------------------------\u001b[0m",
      "\u001b[0;31mModuleNotFoundError\u001b[0m                       Traceback (most recent call last)",
      "\u001b[0;32m<ipython-input-1-61326b13bfcc>\u001b[0m in \u001b[0;36m<module>\u001b[0;34m\u001b[0m\n\u001b[1;32m      1\u001b[0m \u001b[0;32mimport\u001b[0m \u001b[0mpandas\u001b[0m \u001b[0;32mas\u001b[0m \u001b[0mpd\u001b[0m\u001b[0;34m\u001b[0m\u001b[0;34m\u001b[0m\u001b[0m\n\u001b[1;32m      2\u001b[0m \u001b[0;32mimport\u001b[0m \u001b[0mnumpy\u001b[0m \u001b[0;32mas\u001b[0m \u001b[0mnp\u001b[0m\u001b[0;34m\u001b[0m\u001b[0;34m\u001b[0m\u001b[0m\n\u001b[0;32m----> 3\u001b[0;31m \u001b[0;32mimport\u001b[0m \u001b[0mtabulate\u001b[0m\u001b[0;34m\u001b[0m\u001b[0;34m\u001b[0m\u001b[0m\n\u001b[0m",
      "\u001b[0;31mModuleNotFoundError\u001b[0m: No module named 'tabulate'"
     ]
    }
   ],
   "source": [
    "import pandas as pd\n",
    "import numpy as np\n",
    "import tabulate"
   ]
  },
  {
   "cell_type": "code",
   "execution_count": 2,
   "metadata": {},
   "outputs": [
    {
     "name": "stdout",
     "output_type": "stream",
     "text": [
      "|    | train_lin   |    b |    d |   KME |    E |    K |   n_samples |   n_distributions |   best_score |   mean_score |   std_score |\n",
      "|---:|:------------|-----:|-----:|------:|-----:|-----:|------------:|------------------:|-------------:|-------------:|------------:|\n",
      "|  0 | [False]     | 0.05 | 0.05 |     4 | 1000 |  400 |        4000 |              4000 |      87.2054 |      84.1953 |     1.61982 |\n",
      "|  1 | [False]     | 0.05 | 0.05 |     4 | 1000 |  800 |        4000 |              4000 |      85.3199 |      80.7407 |     2.02648 |\n",
      "|  2 | [False]     | 0.05 | 0.05 |     4 | 1000 | 1500 |        4000 |              4000 |      84.1751 |      82.5589 |     1.17218 |\n",
      "|  3 | [False]     | 0.05 | 0.05 |     4 | 2000 |  400 |        4000 |              4000 |      86.936  |      84.0067 |     1.57704 |\n",
      "|  4 | [False]     | 0.05 | 0.05 |     4 | 2000 |  800 |        4000 |              4000 |      87.0034 |      82.4916 |     2.0845  |\n",
      "|  5 | [False]     | 0.05 | 0.05 |     4 | 2000 | 1500 |        4000 |              4000 |      85.1852 |      82.6061 |     1.38761 |\n",
      "|  6 | [False]     | 0.05 | 0.05 |     4 | 4000 |  400 |        4000 |              4000 |      87.0034 |      84.0606 |     1.54737 |\n",
      "|  7 | [False]     | 0.05 | 0.05 |     4 | 4000 |  800 |        4000 |              4000 |      87.4747 |      82.3704 |     2.31943 |\n",
      "|  8 | [False]     | 0.05 | 0.05 |     4 | 4000 | 1500 |        4000 |              4000 |      85.0505 |      82.1414 |     1.42653 |\n"
     ]
    }
   ],
   "source": [
    "df = pd.read_csv('experiment_trees_weights.csv')\n",
    "df = df.rename(columns = {'var_score': 'std_score'})\n",
    "df['best_score'] = df['best_score'] * 100\n",
    "print(df.to_markdown())"
   ]
  },
  {
   "cell_type": "code",
   "execution_count": null,
   "metadata": {},
   "outputs": [],
   "source": []
  }
 ],
 "metadata": {
  "kernelspec": {
   "display_name": "thesis",
   "language": "python",
   "name": "thesis"
  },
  "language_info": {
   "codemirror_mode": {
    "name": "ipython",
    "version": 3
   },
   "file_extension": ".py",
   "mimetype": "text/x-python",
   "name": "python",
   "nbconvert_exporter": "python",
   "pygments_lexer": "ipython3",
   "version": "3.6.8"
  }
 },
 "nbformat": 4,
 "nbformat_minor": 2
}
