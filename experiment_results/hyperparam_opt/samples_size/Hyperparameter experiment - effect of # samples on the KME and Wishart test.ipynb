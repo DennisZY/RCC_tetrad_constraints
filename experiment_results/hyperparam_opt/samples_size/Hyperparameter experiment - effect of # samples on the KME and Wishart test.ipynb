{
 "cells": [
  {
   "cell_type": "markdown",
   "metadata": {},
   "source": [
    "# Hyperparameter experiment - effect of # samples on the KME and Wishart test\n",
    "\n",
    "In this experiment I test how much the sample size per variable influence the scores of the KME and Wishart test. This is an interesting experiment because the amount of samples is one of the few settings that can impact the Wishart test. For this experiment 10 test datasets where used per hyperparameter setting combination. It was assumed that giving the KME the same samples size during training and testing would give the best results.\n",
    "\n",
    "The Wishart test clearly perfors better when given more samples per variable. Interesting to see is that this is caused by the Wishart test getting better results on cases that are not t-separated. Meaning that on low samples sizes, the Wishart test too easily classifies a tetrad as t-separated."
   ]
  },
  {
   "cell_type": "code",
   "execution_count": 1,
   "metadata": {},
   "outputs": [
    {
     "ename": "ModuleNotFoundError",
     "evalue": "No module named 'tabulate'",
     "output_type": "error",
     "traceback": [
      "\u001b[0;31m---------------------------------------------------------------------------\u001b[0m",
      "\u001b[0;31mModuleNotFoundError\u001b[0m                       Traceback (most recent call last)",
      "\u001b[0;32m<ipython-input-1-61326b13bfcc>\u001b[0m in \u001b[0;36m<module>\u001b[0;34m\u001b[0m\n\u001b[1;32m      1\u001b[0m \u001b[0;32mimport\u001b[0m \u001b[0mpandas\u001b[0m \u001b[0;32mas\u001b[0m \u001b[0mpd\u001b[0m\u001b[0;34m\u001b[0m\u001b[0;34m\u001b[0m\u001b[0m\n\u001b[1;32m      2\u001b[0m \u001b[0;32mimport\u001b[0m \u001b[0mnumpy\u001b[0m \u001b[0;32mas\u001b[0m \u001b[0mnp\u001b[0m\u001b[0;34m\u001b[0m\u001b[0;34m\u001b[0m\u001b[0m\n\u001b[0;32m----> 3\u001b[0;31m \u001b[0;32mimport\u001b[0m \u001b[0mtabulate\u001b[0m\u001b[0;34m\u001b[0m\u001b[0;34m\u001b[0m\u001b[0m\n\u001b[0m",
      "\u001b[0;31mModuleNotFoundError\u001b[0m: No module named 'tabulate'"
     ]
    }
   ],
   "source": [
    "import pandas as pd\n",
    "import numpy as np\n",
    "import tabulate"
   ]
  },
  {
   "cell_type": "code",
   "execution_count": 2,
   "metadata": {},
   "outputs": [],
   "source": [
    "KME_results = pd.read_csv('experiment_sample_size_results.csv')\n",
    "KME_results2 = pd.read_csv('experiment_large_sample_trees_weights_results.csv')\n",
    "wishart_results = pd.read_csv('wishart_experiment_samplesize_results.csv')"
   ]
  },
  {
   "cell_type": "code",
   "execution_count": 3,
   "metadata": {},
   "outputs": [],
   "source": [
    "wish_res_nonlin = wishart_results[wishart_results['linear'] == False]  \n",
    "wish_res_lin = wishart_results[wishart_results['linear'] == True]"
   ]
  },
  {
   "cell_type": "markdown",
   "metadata": {},
   "source": [
    "Overview of the Wishart test results for the linear case."
   ]
  },
  {
   "cell_type": "code",
   "execution_count": 23,
   "metadata": {},
   "outputs": [
    {
     "name": "stdout",
     "output_type": "stream",
     "text": [
      "|    |    b |   d |   nsamples | linear   |   accuracy |    acc_std |   trueneg |   falseneg |   truepos |   falsepos |\n",
      "|---:|-----:|----:|-----------:|:---------|-----------:|-----------:|----------:|-----------:|----------:|-----------:|\n",
      "|  0 | 0    |   0 |        200 | True     |   0.57037  | 0.0317539  |     252.1 |        5.1 |     594.9 |      632.9 |\n",
      "|  1 | 0    |   0 |        500 | True     |   0.741886 | 0.0356175  |     506.8 |        5.1 |     594.9 |      378.2 |\n",
      "|  2 | 0    |   0 |       1000 | True     |   0.832795 | 0.015716   |     640.7 |        4   |     596   |      244.3 |\n",
      "|  3 | 0    |   0 |       2000 | True     |   0.898047 | 0.00941798 |     736.9 |        3.3 |     596.7 |      148.1 |\n",
      "|  4 | 0    |   0 |      10000 | True     |   0.942761 | 0.0336506  |     804   |        4   |     596   |       81   |\n",
      "|  5 | 0.05 |   0 |        200 | True     |   0.577037 | 0.0430888  |     260.9 |        4   |     596   |      624.1 |\n",
      "|  6 | 0.05 |   0 |        500 | True     |   0.721347 | 0.0302136  |     477.4 |        6.2 |     593.8 |      407.6 |\n",
      "|  7 | 0.05 |   0 |       1000 | True     |   0.839327 | 0.019063   |     649.8 |        3.4 |     596.6 |      235.2 |\n",
      "|  8 | 0.05 |   0 |       2000 | True     |   0.90532  | 0.0147985  |     747.6 |        3.2 |     596.8 |      137.4 |\n",
      "|  9 | 0.05 |   0 |      10000 | True     |   0.951246 | 0.0118955  |     817.8 |        5.2 |     594.8 |       67.2 |\n",
      "| 10 | 0.1  |   0 |        200 | True     |   0.571178 | 0.0494783  |     255   |        6.8 |     593.2 |      630   |\n",
      "| 11 | 0.1  |   0 |        500 | True     |   0.727811 | 0.0326918  |     484.5 |        3.7 |     596.3 |      400.5 |\n",
      "| 12 | 0.1  |   0 |       1000 | True     |   0.833199 | 0.0132456  |     639.8 |        2.5 |     597.5 |      245.2 |\n",
      "| 13 | 0.1  |   0 |       2000 | True     |   0.896229 | 0.0124956  |     736   |        5.1 |     594.9 |      149   |\n",
      "| 14 | 0.1  |   0 |      10000 | True     |   0.955152 | 0.0192315  |     821.7 |        3.3 |     596.7 |       63.3 |\n"
     ]
    }
   ],
   "source": [
    "wish_lin_mean = wish_res_lin.groupby(['b','d','nsamples']).mean()\n",
    "wish_lin_mean.insert(2, 'acc_std', wish_res_lin.groupby(['b','d','nsamples'])[['accuracy']].std())\n",
    "print(wish_lin_mean.reset_index().to_markdown())"
   ]
  },
  {
   "cell_type": "markdown",
   "metadata": {},
   "source": [
    "Overview of the Wishart test results for the nonlineaer case."
   ]
  },
  {
   "cell_type": "code",
   "execution_count": 22,
   "metadata": {
    "scrolled": true
   },
   "outputs": [
    {
     "name": "stdout",
     "output_type": "stream",
     "text": [
      "|    |    b |    d |   nsamples | linear   |   accuracy |   acc_std |   trueneg |   falseneg |   truepos |   falsepos |\n",
      "|---:|-----:|-----:|-----------:|:---------|-----------:|----------:|----------:|-----------:|----------:|-----------:|\n",
      "|  0 | 0.01 | 0.01 |        200 | False    |   0.563165 | 0.026451  |     240   |        3.7 |     596.3 |      645   |\n",
      "|  1 | 0.01 | 0.01 |        500 | False    |   0.73899  | 0.0267751 |     502.4 |        5   |     595   |      382.6 |\n",
      "|  2 | 0.01 | 0.01 |       1000 | False    |   0.824983 | 0.0236458 |     631.8 |        6.7 |     593.3 |      253.2 |\n",
      "|  3 | 0.01 | 0.01 |       2000 | False    |   0.895623 | 0.0116377 |     734.4 |        4.4 |     595.6 |      150.6 |\n",
      "|  4 | 0.01 | 0.01 |      10000 | False    |   0.9567   | 0.0199461 |     825.1 |        4.4 |     595.6 |       59.9 |\n",
      "|  5 | 0.01 | 0.05 |        200 | False    |   0.587677 | 0.0407839 |     279.8 |        7.1 |     592.9 |      605.2 |\n",
      "|  6 | 0.01 | 0.05 |        500 | False    |   0.73138  | 0.0228724 |     493   |        6.9 |     593.1 |      392   |\n",
      "|  7 | 0.01 | 0.05 |       1000 | False    |   0.828215 | 0.0213809 |     636.6 |        6.7 |     593.3 |      248.4 |\n",
      "|  8 | 0.01 | 0.05 |       2000 | False    |   0.897037 | 0.0132851 |     735.3 |        3.2 |     596.8 |      149.7 |\n",
      "|  9 | 0.01 | 0.05 |      10000 | False    |   0.95138  | 0.0227384 |     814.9 |        2.1 |     597.9 |       70.1 |\n",
      "| 10 | 0.05 | 0.01 |        200 | False    |   0.58835  | 0.0152441 |     277.5 |        3.8 |     596.2 |      607.5 |\n",
      "| 11 | 0.05 | 0.01 |        500 | False    |   0.731246 | 0.0345831 |     488.6 |        2.7 |     597.3 |      396.4 |\n",
      "| 12 | 0.05 | 0.01 |       1000 | False    |   0.824377 | 0.0122486 |     627.6 |        3.4 |     596.6 |      257.4 |\n",
      "| 13 | 0.05 | 0.01 |       2000 | False    |   0.893872 | 0.0124582 |     729.2 |        1.8 |     598.2 |      155.8 |\n",
      "| 14 | 0.05 | 0.01 |      10000 | False    |   0.962155 | 0.0240731 |     832   |        3.2 |     596.8 |       53   |\n",
      "| 15 | 0.05 | 0.05 |        200 | False    |   0.584175 | 0.0386725 |     271   |        3.5 |     596.5 |      614   |\n",
      "| 16 | 0.05 | 0.05 |        500 | False    |   0.746734 | 0.0348039 |     515.4 |        6.5 |     593.5 |      369.6 |\n",
      "| 17 | 0.05 | 0.05 |       1000 | False    |   0.83367  | 0.0188766 |     644.6 |        6.6 |     593.4 |      240.4 |\n",
      "| 18 | 0.05 | 0.05 |       2000 | False    |   0.901145 | 0.0100525 |     743.2 |        5   |     595   |      141.8 |\n",
      "| 19 | 0.05 | 0.05 |      10000 | False    |   0.942963 | 0.0289398 |     803.6 |        3.3 |     596.7 |       81.4 |\n"
     ]
    }
   ],
   "source": [
    "wish_nonlin_mean = wish_res_nonlin.groupby(['b','d','nsamples']).mean()\n",
    "wish_nonlin_mean.insert(2, 'acc_std', wish_res_nonlin.groupby(['b','d','nsamples'])[['accuracy']].std())\n",
    "print(wish_nonlin_mean.reset_index().to_markdown())"
   ]
  },
  {
   "cell_type": "markdown",
   "metadata": {},
   "source": [
    "The results per sample size for the Wishart test and KME. "
   ]
  },
  {
   "cell_type": "code",
   "execution_count": null,
   "metadata": {},
   "outputs": [],
   "source": [
    "wish_mean = wish_res_nonlin[(wish_res_nonlin['b'] == 0.05) & (wish_res_nonlin['d'] == 0.05)].groupby(['nsamples']).mean()\n",
    "wish_mean.insert(4, 'acc_std', wish_mean.groupby(['nsamples'])[['accuracy']].std()['accuracy'])\n",
    "wish_mean['accuracy'] = wish_mean['accuracy'] * 100\n",
    "wish_mean['acc_std'] = wish_mean['acc_std'] * 100\n",
    "print(wish_mean.to_markdown())"
   ]
  },
  {
   "cell_type": "code",
   "execution_count": 31,
   "metadata": {
    "scrolled": true
   },
   "outputs": [
    {
     "name": "stdout",
     "output_type": "stream",
     "text": [
      "|   n_samples |    b |    d |   KME |    E |   K |   n_distributions |   best_score |   mean_score |   stdev_score |\n",
      "|------------:|-----:|-----:|------:|-----:|----:|------------------:|-------------:|-------------:|--------------:|\n",
      "|         200 | 0.05 | 0.05 |     4 | 1000 | 400 |              4000 |      81.6162 |      74.8687 |       4.12293 |\n",
      "|         500 | 0.05 | 0.05 |     4 | 1000 | 400 |              4000 |      82.6936 |      80.3098 |       1.38242 |\n",
      "|        1000 | 0.05 | 0.05 |     4 | 1000 | 400 |              4000 |      81.4141 |      79.0707 |       1.2619  |\n",
      "|        2000 | 0.05 | 0.05 |     4 | 1000 | 400 |              4000 |      84.3771 |      79.9529 |       3.67877 |\n"
     ]
    }
   ],
   "source": [
    "KME_mean = KME_results[(KME_results['b'] == 0.05) & (KME_results['d'] == 0.05)].groupby(['n_samples']).mean()\n",
    "KME_mean = KME_mean.rename(columns={'var_score':'stdev_score'})\n",
    "KME_mean['best_score'] = KME_mean['best_score'] * 100\n",
    "print(KME_mean.to_markdown())"
   ]
  },
  {
   "cell_type": "code",
   "execution_count": 34,
   "metadata": {},
   "outputs": [
    {
     "data": {
      "text/html": [
       "<div>\n",
       "<style scoped>\n",
       "    .dataframe tbody tr th:only-of-type {\n",
       "        vertical-align: middle;\n",
       "    }\n",
       "\n",
       "    .dataframe tbody tr th {\n",
       "        vertical-align: top;\n",
       "    }\n",
       "\n",
       "    .dataframe thead th {\n",
       "        text-align: right;\n",
       "    }\n",
       "</style>\n",
       "<table border=\"1\" class=\"dataframe\">\n",
       "  <thead>\n",
       "    <tr style=\"text-align: right;\">\n",
       "      <th></th>\n",
       "      <th>d</th>\n",
       "      <th>KME</th>\n",
       "      <th>E</th>\n",
       "      <th>K</th>\n",
       "      <th>n_samples</th>\n",
       "      <th>n_distributions</th>\n",
       "      <th>score</th>\n",
       "      <th>trueneg</th>\n",
       "      <th>falseneg</th>\n",
       "      <th>truepos</th>\n",
       "      <th>falsepos</th>\n",
       "    </tr>\n",
       "    <tr>\n",
       "      <th>b</th>\n",
       "      <th></th>\n",
       "      <th></th>\n",
       "      <th></th>\n",
       "      <th></th>\n",
       "      <th></th>\n",
       "      <th></th>\n",
       "      <th></th>\n",
       "      <th></th>\n",
       "      <th></th>\n",
       "      <th></th>\n",
       "      <th></th>\n",
       "    </tr>\n",
       "  </thead>\n",
       "  <tbody>\n",
       "    <tr>\n",
       "      <th>0.05</th>\n",
       "      <td>0.05</td>\n",
       "      <td>4.0</td>\n",
       "      <td>500.0</td>\n",
       "      <td>400.0</td>\n",
       "      <td>2000.0</td>\n",
       "      <td>4000.0</td>\n",
       "      <td>0.80835</td>\n",
       "      <td>824.8</td>\n",
       "      <td>224.4</td>\n",
       "      <td>375.6</td>\n",
       "      <td>60.2</td>\n",
       "    </tr>\n",
       "  </tbody>\n",
       "</table>\n",
       "</div>"
      ],
      "text/plain": [
       "         d  KME      E      K  n_samples  n_distributions    score  trueneg  \\\n",
       "b                                                                             \n",
       "0.05  0.05  4.0  500.0  400.0     2000.0           4000.0  0.80835    824.8   \n",
       "\n",
       "      falseneg  truepos  falsepos  \n",
       "b                                  \n",
       "0.05     224.4    375.6      60.2  "
      ]
     },
     "execution_count": 34,
     "metadata": {},
     "output_type": "execute_result"
    }
   ],
   "source": [
    "KME_results2.groupby(['b']).mean()"
   ]
  },
  {
   "cell_type": "code",
   "execution_count": 33,
   "metadata": {},
   "outputs": [
    {
     "name": "stdout",
     "output_type": "stream",
     "text": [
      "|    | train_lin   |    b |    d |   KME |   E |   K |   n_samples |   n_distributions |    score |   trueneg |   falseneg |   truepos |   falsepos |\n",
      "|---:|:------------|-----:|-----:|------:|----:|----:|------------:|------------------:|---------:|----------:|-----------:|----------:|-----------:|\n",
      "|  0 | [False]     | 0.05 | 0.05 |     4 | 500 | 400 |        2000 |              4000 | 0.816835 |       843 |        230 |       370 |         42 |\n",
      "|  1 | [False]     | 0.05 | 0.05 |     4 | 500 | 400 |        2000 |              4000 | 0.823569 |       848 |        225 |       375 |         37 |\n",
      "|  2 | [False]     | 0.05 | 0.05 |     4 | 500 | 400 |        2000 |              4000 | 0.783165 |       809 |        246 |       354 |         76 |\n",
      "|  3 | [False]     | 0.05 | 0.05 |     4 | 500 | 400 |        2000 |              4000 | 0.847138 |       870 |        212 |       388 |         15 |\n",
      "|  4 | [False]     | 0.05 | 0.05 |     4 | 500 | 400 |        2000 |              4000 | 0.826263 |       847 |        220 |       380 |         38 |\n",
      "|  5 | [False]     | 0.05 | 0.05 |     4 | 500 | 400 |        2000 |              4000 | 0.806734 |       801 |        203 |       397 |         84 |\n",
      "|  6 | [False]     | 0.05 | 0.05 |     4 | 500 | 400 |        2000 |              4000 | 0.79798  |       809 |        224 |       376 |         76 |\n",
      "|  7 | [False]     | 0.05 | 0.05 |     4 | 500 | 400 |        2000 |              4000 | 0.788552 |       778 |        207 |       393 |        107 |\n",
      "|  8 | [False]     | 0.05 | 0.05 |     4 | 500 | 400 |        2000 |              4000 | 0.8      |       839 |        251 |       349 |         46 |\n",
      "|  9 | [False]     | 0.05 | 0.05 |     4 | 500 | 400 |        2000 |              4000 | 0.793266 |       804 |        226 |       374 |         81 |\n"
     ]
    }
   ],
   "source": [
    "print(KME_results2.to_markdown())"
   ]
  },
  {
   "cell_type": "code",
   "execution_count": null,
   "metadata": {},
   "outputs": [],
   "source": []
  }
 ],
 "metadata": {
  "kernelspec": {
   "display_name": "thesis",
   "language": "python",
   "name": "thesis"
  },
  "language_info": {
   "codemirror_mode": {
    "name": "ipython",
    "version": 3
   },
   "file_extension": ".py",
   "mimetype": "text/x-python",
   "name": "python",
   "nbconvert_exporter": "python",
   "pygments_lexer": "ipython3",
   "version": "3.6.8"
  }
 },
 "nbformat": 4,
 "nbformat_minor": 2
}
