{
 "cells": [
  {
   "cell_type": "code",
   "execution_count": 1,
   "metadata": {
    "scrolled": false
   },
   "outputs": [],
   "source": [
    "import semopy.model_generator as smg\n",
    "import numpy as np\n",
    "import pandas as pd\n",
    "from functools import partial\n",
    "from numpy.random import normal, uniform\n",
    "from scipy.stats import truncnorm\n",
    "import matplotlib.pyplot as plt\n",
    "from graphviz import Digraph\n",
    "import networkx as nx\n",
    "import itertools\n",
    "from t_separation import is_t_separated\n",
    "from sklearn.preprocessing import scale, StandardScaler\n",
    "from collections import Counter\n",
    "import random\n"
   ]
  },
  {
   "cell_type": "code",
   "execution_count": 2,
   "metadata": {},
   "outputs": [],
   "source": [
    "# Source: https://stackoverflow.com/questions/5360220/how-to-split-a-list-into-pairs-in-all-possible-ways\n",
    "def all_pairs(lst):\n",
    "    if len(lst) < 2:\n",
    "        yield []\n",
    "        return\n",
    "    if len(lst) % 2 == 1:\n",
    "        # Chances are that this odd length list feature does not work.\n",
    "        # Handle odd length list\n",
    "        for i in range(len(lst)):\n",
    "            for result in all_pairs(lst[:i] + lst[i+1:]):\n",
    "                yield result\n",
    "    else:\n",
    "        a = lst[0]\n",
    "        for i in range(1,len(lst)):\n",
    "            pair = (a,lst[i])\n",
    "            for rest in all_pairs(lst[1:i]+lst[i+1:]):\n",
    "                yield [pair] + rest"
   ]
  },
  {
   "cell_type": "markdown",
   "metadata": {},
   "source": [
    "## General settings"
   ]
  },
  {
   "cell_type": "code",
   "execution_count": 3,
   "metadata": {},
   "outputs": [],
   "source": [
    "# Total number of variables in the structural part\n",
    "n_obs = 2\n",
    "\n",
    "# Number of latent variables in the structural part\n",
    "n_lat = 2\n",
    "\n",
    "# Minimal number of cycles in the structural part\n",
    "n_cycles = 0\n",
    "\n",
    "# Lower number of possible numbers of manifest variables for a latent variable\n",
    "l_manif = 2\n",
    "# Upper number of possible numbers of manifest variables for a latent variable\n",
    "u_manif = 2\n",
    "# Manifest variables\n",
    "n_manif = (l_manif, u_manif)\n",
    "# fraction of manifest variables to merge together\n",
    "p_manif = 0.00\n",
    "\n",
    "# all parameters sampled from uniform distribution on domain [−1.0, −0.1]∪ [0.1, 1.0] are multiplied by this value.\n",
    "\n",
    "# number of sample in the dataset\n",
    "n_samples = 1000\n"
   ]
  },
  {
   "cell_type": "markdown",
   "metadata": {},
   "source": [
    "## Make model and show it graphically"
   ]
  },
  {
   "cell_type": "code",
   "execution_count": 14,
   "metadata": {
    "scrolled": false
   },
   "outputs": [
    {
     "name": "stdout",
     "output_type": "stream",
     "text": [
      "eta1 =~ y1 + y2\n",
      "eta2 =~ y3 + y4\n",
      "eta2 ~ eta1\n",
      "x2 ~ eta2\n",
      "x1 ~ eta1\n",
      "\n"
     ]
    },
    {
     "data": {
      "text/plain": [
       "'pure_measurement_model.png'"
      ]
     },
     "execution_count": 14,
     "metadata": {},
     "output_type": "execute_result"
    }
   ],
   "source": [
    "m_model = smg.generate_measurement_part(n_lat, n_manif, p_manif)\n",
    "s_model, threadman = smg.generate_structural_part(m_model, n_obs, n_cycles)\n",
    "print(smg.create_model_description(m_model, s_model))\n",
    "\n",
    "s_model = {'L1': {'L2','L3','L4'}}\n",
    "m_model = {'L1': {'X1','X2','X3','X4'},\n",
    "           'L2': {'X5','X6','X7','X8'},\n",
    "           'L3': {'X9','X10','X11','X12'},\n",
    "           'L4': {'X13','X14','X15','X16'}}\n",
    "nodes = set.union(*m_model.values(), m_model.keys(), *s_model.values(), s_model.keys())\n",
    "G = Digraph(format = 'png')\n",
    "for node in nodes:\n",
    "    G.node(node)\n",
    "for k in m_model.keys():\n",
    "    for v in m_model[k]:\n",
    "        G.edge(k, v)\n",
    "for k in s_model.keys():\n",
    "    for v in s_model[k]:\n",
    "        G.edge(k, v)\n",
    "G.render('pure_measurement_model', view=True)"
   ]
  },
  {
   "cell_type": "markdown",
   "metadata": {},
   "source": [
    "# def find_parents(model):\n",
    "    parents_dict = {}\n",
    "    for k in model.keys():\n",
    "        for v in model[k]:\n",
    "            if v in parents_dict.keys():\n",
    "                parents_dict[v].append(k)\n",
    "            else:\n",
    "                parents_dict[v] = [k]\n",
    "    return(parents_dict)"
   ]
  },
  {
   "cell_type": "code",
   "execution_count": 83,
   "metadata": {},
   "outputs": [],
   "source": [
    "def find_descendants(origin, model):\n",
    "    descendants = []\n",
    "    if origin in model.keys():\n",
    "        for v in model[origin]:\n",
    "            find_descendants_rec(v, model, descendants)\n",
    "    return(descendants)\n",
    "def find_descendants_rec(origin, model, descendants):\n",
    "    descendants.append(origin)\n",
    "    if origin in model.keys():\n",
    "        for v in model[origin]:\n",
    "            find_descendants_rec(v, model, descendants)\n",
    "    "
   ]
  },
  {
   "cell_type": "code",
   "execution_count": 21,
   "metadata": {
    "scrolled": false
   },
   "outputs": [
    {
     "name": "stdout",
     "output_type": "stream",
     "text": [
      "{'y3', 'y2', 'L1', 'L2', 'y1', 'y4'}\n",
      "{'y3': 0, 'y2': 1, 'L1': 2, 'L2': 3, 'y1': 4, 'y4': 5}\n",
      "{'y3', 'y2', 'y1', 'y4'}\n",
      "False\n",
      "[['y1', 'y4'], ['y2', 'y3']]\n",
      "False\n",
      "[['y1', 'y3'], ['y2', 'y4']]\n",
      "False\n",
      "[['y1', 'y2'], ['y3', 'y4']]\n"
     ]
    },
    {
     "data": {
      "text/plain": [
       "[\"['y1', 'y4']\",\n",
       " \"['y2', 'y3']\",\n",
       " False,\n",
       " \"['y1', 'y3']\",\n",
       " \"['y2', 'y4']\",\n",
       " False,\n",
       " \"['y1', 'y2']\",\n",
       " \"['y3', 'y4']\",\n",
       " False]"
      ]
     },
     "execution_count": 21,
     "metadata": {},
     "output_type": "execute_result"
    }
   ],
   "source": [
    "index_dict = {}\n",
    "for i, node in enumerate(nodes):\n",
    "    index_dict[node] = i\n",
    "d = len(nodes)\n",
    "mL = np.zeros((d, d), dtype=bool)\n",
    "m0 = np.eye(d, dtype=bool)\n",
    "for k in m_model.keys():\n",
    "    for v in m_model[k]:\n",
    "        mL[index_dict[k], index_dict[v]] = True\n",
    "for k in s_model.keys():\n",
    "    for v in s_model[k]:\n",
    "        mL[index_dict[k], index_dict[v]] = True\n",
    "graph = (mL, m0)\n",
    "print(nodes)\n",
    "print(index_dict)\n",
    "t_separations = []\n",
    "print(set.union(*m_model.values()))\n",
    "for x in all_pairs(list(set.union(*m_model.values()))):\n",
    "    A = np.zeros(d, dtype=bool)\n",
    "    B = np.zeros(d, dtype=bool)\n",
    "\n",
    "    A[index_dict[x[0][0]]] = A[index_dict[x[0][1]]] = True\n",
    "    B[index_dict[x[1][0]]] = B[index_dict[x[1][1]]] = True\n",
    "    \n",
    "    print(is_t_separated(graph, A, B))\n",
    "    x = sorted((sorted(x[0]), sorted(x[1])))\n",
    "    print(x)\n",
    "    t_separations.append(str(x[0]))\n",
    "    t_separations.append(str(x[1]))\n",
    "    t_separations.append(is_t_separated(graph, A, B))\n",
    "t_separations\n"
   ]
  },
  {
   "cell_type": "code",
   "execution_count": 219,
   "metadata": {},
   "outputs": [],
   "source": [
    "import graph_examples\n",
    "def visualize_graph(m_model, s_model):\n",
    "    nodes = set.union(*m_model.values(), m_model.keys(), *s_model.values(),\n",
    "                      s_model.keys())\n",
    "    G = Digraph()\n",
    "    for node in nodes:\n",
    "        G.node(node)\n",
    "    for k in m_model.keys():\n",
    "        for v in m_model[k]:\n",
    "            G.edge(k, v)\n",
    "    for k in s_model.keys():\n",
    "        for v in s_model[k]:\n",
    "            G.edge(k, v)\n",
    "    return(G)"
   ]
  },
  {
   "cell_type": "code",
   "execution_count": 220,
   "metadata": {},
   "outputs": [
    {
     "ename": "AttributeError",
     "evalue": "module 'graph_examples' has no attribute 'example5'",
     "output_type": "error",
     "traceback": [
      "\u001b[0;31m---------------------------------------------------------------------------\u001b[0m",
      "\u001b[0;31mAttributeError\u001b[0m                            Traceback (most recent call last)",
      "\u001b[0;32m<ipython-input-220-524609d05245>\u001b[0m in \u001b[0;36m<module>\u001b[0;34m\u001b[0m\n\u001b[0;32m----> 1\u001b[0;31m \u001b[0mm_model\u001b[0m\u001b[0;34m,\u001b[0m \u001b[0ms_model\u001b[0m \u001b[0;34m=\u001b[0m \u001b[0mgraph_examples\u001b[0m\u001b[0;34m.\u001b[0m\u001b[0mexample5\u001b[0m\u001b[0;34m(\u001b[0m\u001b[0;34m)\u001b[0m\u001b[0;34m\u001b[0m\u001b[0;34m\u001b[0m\u001b[0m\n\u001b[0m\u001b[1;32m      2\u001b[0m \u001b[0mvisualize_graph\u001b[0m\u001b[0;34m(\u001b[0m\u001b[0mm_model\u001b[0m\u001b[0;34m,\u001b[0m \u001b[0ms_model\u001b[0m\u001b[0;34m)\u001b[0m\u001b[0;34m\u001b[0m\u001b[0;34m\u001b[0m\u001b[0m\n",
      "\u001b[0;31mAttributeError\u001b[0m: module 'graph_examples' has no attribute 'example5'"
     ]
    }
   ],
   "source": [
    "m_model, s_model = graph_examples.example5()\n",
    "visualize_graph(m_model, s_model)"
   ]
  },
  {
   "cell_type": "markdown",
   "metadata": {},
   "source": [
    "## Generate parameters"
   ]
  },
  {
   "cell_type": "code",
   "execution_count": 221,
   "metadata": {
    "scrolled": true
   },
   "outputs": [
    {
     "name": "stdout",
     "output_type": "stream",
     "text": [
      "{'eta1': [('y1', 8.307436578798189), ('y2', 7.235091412100688)], 'eta2': [('y3', 3.018149313687199), ('y4', 6.929507880082843)]}\n",
      "{'eta2': [('eta1', 0.5163813970104988)], 'x2': [('eta2', 1.307447915809355)], 'x1': [('eta1', 4.646913420724151)]}\n"
     ]
    }
   ],
   "source": [
    "m_param, s_param = smg.generate_parameters(m_model, \n",
    "                                           s_model, \n",
    "                                           lambda :  uniform(1,10),\n",
    "                                           lambda :  uniform(0.1,5),\n",
    "                                           mpart_fix_value=None)\n",
    "print(m_param)\n",
    "print(s_param)"
   ]
  },
  {
   "cell_type": "markdown",
   "metadata": {},
   "source": [
    "## Generate data"
   ]
  },
  {
   "cell_type": "code",
   "execution_count": 254,
   "metadata": {
    "scrolled": true
   },
   "outputs": [],
   "source": [
    "data = smg.generate_data(m_model,\n",
    "                         s_model,\n",
    "                         m_param,\n",
    "                         s_param,\n",
    "                         n_samples,\n",
    "                         None)"
   ]
  },
  {
   "cell_type": "code",
   "execution_count": 224,
   "metadata": {
    "scrolled": false
   },
   "outputs": [
    {
     "name": "stdout",
     "output_type": "stream",
     "text": [
      "SET\n",
      "cov(y1,y2) * cov(y3,y4) - cov(y4,y2) * cov(y3,y1)\n",
      "1.618209519801872e-05\n",
      "\n",
      "SET\n",
      "cov(y1,y2) * cov(y3,y4) - cov(y4,y1) * cov(y3,y2)\n",
      "1.130435700194506e-05\n",
      "\n",
      "SET\n",
      "cov(y1,y3) * cov(y2,y4) - cov(y4,y1) * cov(y3,y2)\n",
      "-4.877738196073659e-06\n",
      "\n"
     ]
    }
   ],
   "source": [
    "# Tetrad constraints do not seem to overlap with \n",
    "covar_matrix = data.cov()\n",
    "pairs = list(all_pairs(list(set.union(*m_model.values()))))\n",
    "\n",
    "for i, comb in enumerate(pairs):\n",
    "    for n in range (i + 1, len(pairs)):\n",
    "        print(\"SET\")\n",
    "        comb = sorted(list(map(sorted, comb)))\n",
    "        var1 = comb[0][0]\n",
    "        var2 = comb[0][1]\n",
    "        var3 = comb[1][0]\n",
    "        var4 = comb[1][1]\n",
    "        var5 = pairs[n][0][0]\n",
    "        var6 = pairs[n][0][1]\n",
    "        var7 = pairs[n][1][0]\n",
    "        var8 = pairs[n][1][1]\n",
    "\n",
    "        print('cov({},{}) * cov({},{}) - cov({},{}) * cov({},{})'.format(var1,var2,var3,var4,var5,var6,var7,var8))\n",
    "        print(covar_matrix.loc[var1,var2] * covar_matrix.loc[var3,var4] - covar_matrix.loc[var5,var6] * covar_matrix.loc[var7,var8])\n",
    "        print()"
   ]
  },
  {
   "cell_type": "code",
   "execution_count": 226,
   "metadata": {},
   "outputs": [
    {
     "name": "stdout",
     "output_type": "stream",
     "text": [
      "[('y2', 'y1'), ('y4', 'y3')]\n",
      "[('y2', 'y1'), ('y4', 'y3')]\n",
      "[('y3', 'y1'), ('y4', 'y2')]\n",
      "[('y3', 'y2'), ('y4', 'y1')]\n",
      "\n",
      "[['y1', 'y4'], ['y2', 'y3']]\n",
      "[['y2', 'y4'], ['y1', 'y3']]\n",
      "[['y3', 'y4'], ['y1', 'y2']]\n"
     ]
    },
    {
     "data": {
      "text/plain": [
       "[[('y3', 'y2'), ('y4', 'y1')],\n",
       " [('y3', 'y1'), ('y4', 'y2')],\n",
       " [('y2', 'y1'), ('y4', 'y3')]]"
      ]
     },
     "execution_count": 226,
     "metadata": {},
     "output_type": "execute_result"
    }
   ],
   "source": [
    "print(sorted(map(sorted, all_pairs(list(set.union(*m_model.values())))))[0])\n",
    "for x in sorted(map(sorted, all_pairs(list(set.union(*m_model.values()))))):\n",
    "    print(x)\n",
    "print()\n",
    "for x in list(sorted(all_pairs(list(set.union(*m_model.values()))))):\n",
    "    print(list(map(sorted, x)))\n",
    "    \n",
    "list(map(sorted, list(sorted(all_pairs(list(set.union(*m_model.values())))))))"
   ]
  },
  {
   "cell_type": "code",
   "execution_count": 227,
   "metadata": {
    "scrolled": true
   },
   "outputs": [
    {
     "data": {
      "text/plain": [
       "1.130435700194506e-05"
      ]
     },
     "execution_count": 227,
     "metadata": {},
     "output_type": "execute_result"
    }
   ],
   "source": [
    "data.cov().loc['y1','y2'] * data.cov().loc['y3','y4'] - data.cov().loc['y1','y4'] * data.cov().loc['y2','y3']"
   ]
  },
  {
   "cell_type": "code",
   "execution_count": 228,
   "metadata": {},
   "outputs": [
    {
     "data": {
      "text/plain": [
       "-4.877738196073659e-06"
      ]
     },
     "execution_count": 228,
     "metadata": {},
     "output_type": "execute_result"
    }
   ],
   "source": [
    "# The single Tetrad constraint that I should find in the two latent variable case\n",
    "data.cov().loc['y1','y3'] * data.cov().loc['y2','y4'] - data.cov().loc['y1','y4'] * data.cov().loc['y2','y3']"
   ]
  },
  {
   "cell_type": "code",
   "execution_count": 229,
   "metadata": {
    "scrolled": true
   },
   "outputs": [
    {
     "data": {
      "text/plain": [
       "-1.618209519801872e-05"
      ]
     },
     "execution_count": 229,
     "metadata": {},
     "output_type": "execute_result"
    }
   ],
   "source": [
    "data.cov().loc['y1','y3'] * data.cov().loc['y2','y4'] - data.cov().loc['y1','y2'] * data.cov().loc['y3','y4']"
   ]
  },
  {
   "cell_type": "code",
   "execution_count": 230,
   "metadata": {
    "scrolled": false
   },
   "outputs": [],
   "source": [
    "from sklearn.mixture       import GaussianMixture\n",
    "from sklearn.preprocessing import scale, StandardScaler"
   ]
  },
  {
   "cell_type": "code",
   "execution_count": null,
   "metadata": {},
   "outputs": [],
   "source": [
    "def cause(n,k,p1,p2):\n",
    "  g = GaussianMixture(k, covariance_type = 'diag')\n",
    "  g.means_   = p1*np.random.randn(k,1)\n",
    "  g.covariances_  = np.power(abs(p2*np.random.randn(k,1)+1),2)\n",
    "  g.weights_ = abs(np.random.rand(k))\n",
    "  g.weights_ = g.weights_/sum(g.weights_)\n",
    "  return scale(g.sample(n)[0])"
   ]
  },
  {
   "cell_type": "code",
   "execution_count": null,
   "metadata": {},
   "outputs": [],
   "source": [
    "n=1000\n",
    "k=2\n",
    "p1=2\n",
    "p2=1\n",
    "v=3\n",
    "d=5\n",
    "cause(n,k,p1,p2).shape\n"
   ]
  },
  {
   "cell_type": "code",
   "execution_count": null,
   "metadata": {},
   "outputs": [],
   "source": [
    "g = GaussianMixture(k, covariance_type = 'diag')\n",
    "g.means_   = p1*np.random.randn(k,1)\n",
    "g.covariances_  = np.power(abs(p2*np.random.randn(k,1)+1),2)\n",
    "g.weights_ = abs(np.random.rand(k))\n",
    "g.weights_ = g.weights_/sum(g.weights_)\n",
    "g.sample(n)[0]"
   ]
  },
  {
   "cell_type": "code",
   "execution_count": 216,
   "metadata": {},
   "outputs": [],
   "source": [
    "value_file = pd.read_csv('generated_data/gen_values.csv')"
   ]
  },
  {
   "cell_type": "code",
   "execution_count": 217,
   "metadata": {
    "scrolled": true
   },
   "outputs": [
    {
     "data": {
      "text/html": [
       "<div>\n",
       "<style scoped>\n",
       "    .dataframe tbody tr th:only-of-type {\n",
       "        vertical-align: middle;\n",
       "    }\n",
       "\n",
       "    .dataframe tbody tr th {\n",
       "        vertical-align: top;\n",
       "    }\n",
       "\n",
       "    .dataframe thead th {\n",
       "        text-align: right;\n",
       "    }\n",
       "</style>\n",
       "<table border=\"1\" class=\"dataframe\">\n",
       "  <thead>\n",
       "    <tr style=\"text-align: right;\">\n",
       "      <th></th>\n",
       "      <th>0</th>\n",
       "      <th>1</th>\n",
       "      <th>2</th>\n",
       "      <th>3</th>\n",
       "      <th>4</th>\n",
       "      <th>5</th>\n",
       "      <th>6</th>\n",
       "      <th>7</th>\n",
       "      <th>8</th>\n",
       "      <th>9</th>\n",
       "      <th>...</th>\n",
       "      <th>3990</th>\n",
       "      <th>3991</th>\n",
       "      <th>3992</th>\n",
       "      <th>3993</th>\n",
       "      <th>3994</th>\n",
       "      <th>3995</th>\n",
       "      <th>3996</th>\n",
       "      <th>3997</th>\n",
       "      <th>3998</th>\n",
       "      <th>3999</th>\n",
       "    </tr>\n",
       "  </thead>\n",
       "  <tbody>\n",
       "  </tbody>\n",
       "</table>\n",
       "<p>0 rows × 4000 columns</p>\n",
       "</div>"
      ],
      "text/plain": [
       "Empty DataFrame\n",
       "Columns: [0, 1, 2, 3, 4, 5, 6, 7, 8, 9, 10, 11, 12, 13, 14, 15, 16, 17, 18, 19, 20, 21, 22, 23, 24, 25, 26, 27, 28, 29, 30, 31, 32, 33, 34, 35, 36, 37, 38, 39, 40, 41, 42, 43, 44, 45, 46, 47, 48, 49, 50, 51, 52, 53, 54, 55, 56, 57, 58, 59, 60, 61, 62, 63, 64, 65, 66, 67, 68, 69, 70, 71, 72, 73, 74, 75, 76, 77, 78, 79, 80, 81, 82, 83, 84, 85, 86, 87, 88, 89, 90, 91, 92, 93, 94, 95, 96, 97, 98, 99, ...]\n",
       "Index: []\n",
       "\n",
       "[0 rows x 4000 columns]"
      ]
     },
     "execution_count": 217,
     "metadata": {},
     "output_type": "execute_result"
    }
   ],
   "source": [
    "value_file.head()"
   ]
  },
  {
   "cell_type": "code",
   "execution_count": null,
   "metadata": {},
   "outputs": [],
   "source": [
    "from t_separation import is_t_separated\n",
    "\n",
    "def find_t_separations(m_model, s_model):\n",
    "    nodes = set.union(*m_model.values(), m_model.keys(), *s_model.values(),\n",
    "                      s_model.keys())\n",
    "    index_dict = {}\n",
    "    for i, node in enumerate(nodes):\n",
    "        index_dict[node] = i\n",
    "    d = len(nodes)\n",
    "    mL = np.zeros((d, d), dtype=bool)\n",
    "    m0 = np.eye(d, dtype=bool)\n",
    "    for k in m_model.keys():\n",
    "        for v in m_model[k]:\n",
    "            mL[index_dict[k], index_dict[v]] = True\n",
    "    for k in s_model.keys():\n",
    "        for v in s_model[k]:\n",
    "            mL[index_dict[k], index_dict[v]] = True\n",
    "    print(nodes)\n",
    "    print(mL)\n",
    "    print(m0)\n",
    "    graph = (mL, m0)\n",
    "\n",
    "    t_separations = []\n",
    "    for set_of_pairs in all_pairs(list(set.union(\n",
    "            *m_model.values()))):\n",
    "        print(set_of_pairs)\n",
    "        A = np.zeros(d, dtype=bool)\n",
    "        B = np.zeros(d, dtype=bool)\n",
    "        A[index_dict[set_of_pairs[0][0]]] = A[index_dict[set_of_pairs[0][1]]] = True\n",
    "        B[index_dict[set_of_pairs[1][0]]] = B[index_dict[set_of_pairs[1][1]]] = True\n",
    "        set_of_pairs = sorted((sorted(set_of_pairs[0]), sorted(set_of_pairs[1])))\n",
    "        t_separations.append(set_of_pairs[0][0] + \" \" + set_of_pairs[0][1])\n",
    "        t_separations.append(set_of_pairs[1][0] + \" \" + set_of_pairs[1][1])\n",
    "        t_separations.append(is_t_separated(graph, A, B))\n",
    "\n",
    "    return(t_separations)\n",
    "\n",
    "def all_pairs(lst):\n",
    "    if len(lst) < 2:\n",
    "        yield []\n",
    "        return\n",
    "    if len(lst) % 2 == 1:\n",
    "        # Chances are that this odd length list feature does not work.\n",
    "        # Handle odd length list\n",
    "        for i in range(len(lst)):\n",
    "            for result in all_pairs(lst[:i] + lst[i+1:]):\n",
    "                yield result\n",
    "    else:\n",
    "        a = lst[0]\n",
    "        for i in range(1,len(lst)):\n",
    "            pair = (a,lst[i])\n",
    "            for rest in all_pairs(lst[1:i]+lst[i+1:]):\n",
    "                yield [pair] + rest"
   ]
  },
  {
   "cell_type": "code",
   "execution_count": 236,
   "metadata": {},
   "outputs": [],
   "source": [
    "import utility_functions\n",
    "from sklearn.mixture       import GaussianMixture\n",
    "from scipy.interpolate     import UnivariateSpline as sp\n",
    "from random import randint, random\n",
    "\n",
    "def cause(n,k,p1,p2):\n",
    "  g = GaussianMixture(k, covariance_type = 'diag')\n",
    "  g.means_   = p1*np.random.randn(k,1)\n",
    "  g.covariances_  = np.power(abs(p2*np.random.randn(k,1)+1),2)\n",
    "  g.weights_ = abs(np.random.rand(k))\n",
    "  g.weights_ = g.weights_/sum(g.weights_)\n",
    "  return scale(g.sample(n)[0])\n",
    "\n",
    "def noise(n,v):\n",
    "  return v*np.random.rand(1)*np.random.randn(n,1)\n",
    "\n",
    "def mechanism(x,d):\n",
    "  g = np.linspace(min(x)-np.std(x),max(x)+np.std(x),d);\n",
    "  return sp(g,np.random.randn(d))(x.flatten())[:,np.newaxis]\n",
    "\n",
    "def linear_mechanism(x):\n",
    "   return(x * (randint(0,10) + random()))\n",
    "\n",
    "# Given a list of variables, calculates their values and the values of all\n",
    "# their children, given that values of all their parents are known.\n",
    "def calculate_structure_values(vars, model, s_model_values, s_parents_dict,\n",
    "                               n_samples, v, d):\n",
    "    for var in vars:\n",
    "        # Check if all parents already have a defined value.\n",
    "        if all(cause in s_model_values.keys() for cause in s_parents_dict[\n",
    "            var]):\n",
    "            # This is based on Lopez-Paz method.\n",
    "            x = np.zeros([n_samples, 1])\n",
    "            for parent in s_parents_dict[var]:\n",
    "                x = x + mechanism(s_model_values[parent], d)\n",
    "            s_model_values[var] = scale(scale(x) + noise(n_samples, v))\n",
    "            #TODO test this function.\n",
    "            if var in model.keys():\n",
    "                calculate_structure_values(model[var], model, s_model_values,\n",
    "                                           s_parents_dict, n_samples, v ,d)\n",
    "\n",
    "# Function to generate non linear data in a pandas dataframe.\n",
    "def generate_data_nonlinear(m_model, s_model, n_samples, n_mix, p1=2,p2=1,\n",
    "                            v=3,d=5):\n",
    "\n",
    "    incoming_arrows_dict = Counter([x for value in s_model.values() for x in\n",
    "                                 value])\n",
    "\n",
    "    exo_vars = set(s_model.keys()) - set([x for value in s_model.values() for x\n",
    "                                        in value])\n",
    "\n",
    "    s_parents_dict = utility_functions.find_parents(s_model)\n",
    "    m_parents_dict = utility_functions.find_parents(m_model)\n",
    "\n",
    "    s_model_values = {}\n",
    "    # Iterate through exogenous variables\n",
    "    for exo in exo_vars:\n",
    "        s_model_values[exo] = cause(n_samples, n_mix, p1, p2)\n",
    "        calculate_structure_values(s_model[exo], s_model, s_model_values,\n",
    "                                   s_parents_dict, n_samples, v , d)\n",
    "    # Iterator object of all y's (measurement variables)\n",
    "    measure_vars = set([x for value in m_model.values() for x in value])\n",
    "    measure_values = np.zeros([n_samples,len(measure_vars)])\n",
    "    for i, measure in enumerate(measure_vars):\n",
    "        c = np.zeros([n_samples, 1])\n",
    "        for indicator in m_parents_dict[measure]:\n",
    "            c = c + linear_mechanism(s_model_values[indicator])\n",
    "        measure_values[:,i] = scale(scale(c) + noise(n_samples, v)).flatten()\n",
    "    return(pd.DataFrame(measure_values, columns=measure_vars))\n"
   ]
  },
  {
   "cell_type": "code",
   "execution_count": 392,
   "metadata": {
    "scrolled": true
   },
   "outputs": [],
   "source": [
    "target_pd = pd.read_csv('generated_data/gen_targets.csv')\n",
    "tetrad_pd = pd.read_csv('generated_data/gen_tetrads.csv')\n",
    "no_t_sep = target_pd.loc[(target_pd['2'] == False) & (target_pd['5'] == False) & (target_pd['8'] == False)].index\n",
    "all_t_sep = target_pd.loc[(target_pd['2'] == True) & (target_pd['5'] == True) & (target_pd['8'] == True)].index\n",
    "rest_t_sep = np.hstack((no_t_sep,all_t_sep))"
   ]
  },
  {
   "cell_type": "code",
   "execution_count": 393,
   "metadata": {
    "scrolled": true
   },
   "outputs": [
    {
     "data": {
      "text/html": [
       "<div>\n",
       "<style scoped>\n",
       "    .dataframe tbody tr th:only-of-type {\n",
       "        vertical-align: middle;\n",
       "    }\n",
       "\n",
       "    .dataframe tbody tr th {\n",
       "        vertical-align: top;\n",
       "    }\n",
       "\n",
       "    .dataframe thead th {\n",
       "        text-align: right;\n",
       "    }\n",
       "</style>\n",
       "<table border=\"1\" class=\"dataframe\">\n",
       "  <thead>\n",
       "    <tr style=\"text-align: right;\">\n",
       "      <th></th>\n",
       "      <th>0</th>\n",
       "      <th>1</th>\n",
       "      <th>2</th>\n",
       "    </tr>\n",
       "  </thead>\n",
       "  <tbody>\n",
       "    <tr>\n",
       "      <th>0</th>\n",
       "      <td>-0.186161</td>\n",
       "      <td>-0.655991</td>\n",
       "      <td>-0.469830</td>\n",
       "    </tr>\n",
       "    <tr>\n",
       "      <th>1</th>\n",
       "      <td>-1794.000000</td>\n",
       "      <td>-1641.812500</td>\n",
       "      <td>152.187500</td>\n",
       "    </tr>\n",
       "    <tr>\n",
       "      <th>2</th>\n",
       "      <td>9.833612</td>\n",
       "      <td>23.471481</td>\n",
       "      <td>13.637869</td>\n",
       "    </tr>\n",
       "    <tr>\n",
       "      <th>3</th>\n",
       "      <td>38.347900</td>\n",
       "      <td>31.620758</td>\n",
       "      <td>-6.727142</td>\n",
       "    </tr>\n",
       "    <tr>\n",
       "      <th>4</th>\n",
       "      <td>-477.164062</td>\n",
       "      <td>-406.609375</td>\n",
       "      <td>70.554688</td>\n",
       "    </tr>\n",
       "    <tr>\n",
       "      <th>...</th>\n",
       "      <td>...</td>\n",
       "      <td>...</td>\n",
       "      <td>...</td>\n",
       "    </tr>\n",
       "    <tr>\n",
       "      <th>5971</th>\n",
       "      <td>0.772142</td>\n",
       "      <td>0.628561</td>\n",
       "      <td>-0.143581</td>\n",
       "    </tr>\n",
       "    <tr>\n",
       "      <th>5972</th>\n",
       "      <td>0.017969</td>\n",
       "      <td>0.073396</td>\n",
       "      <td>0.055427</td>\n",
       "    </tr>\n",
       "    <tr>\n",
       "      <th>5973</th>\n",
       "      <td>-3.082779</td>\n",
       "      <td>-0.726753</td>\n",
       "      <td>2.356026</td>\n",
       "    </tr>\n",
       "    <tr>\n",
       "      <th>5974</th>\n",
       "      <td>0.004537</td>\n",
       "      <td>0.005178</td>\n",
       "      <td>0.000642</td>\n",
       "    </tr>\n",
       "    <tr>\n",
       "      <th>5975</th>\n",
       "      <td>1.040715</td>\n",
       "      <td>-0.957400</td>\n",
       "      <td>-1.998116</td>\n",
       "    </tr>\n",
       "  </tbody>\n",
       "</table>\n",
       "<p>5976 rows × 3 columns</p>\n",
       "</div>"
      ],
      "text/plain": [
       "                0            1           2\n",
       "0       -0.186161    -0.655991   -0.469830\n",
       "1    -1794.000000 -1641.812500  152.187500\n",
       "2        9.833612    23.471481   13.637869\n",
       "3       38.347900    31.620758   -6.727142\n",
       "4     -477.164062  -406.609375   70.554688\n",
       "...           ...          ...         ...\n",
       "5971     0.772142     0.628561   -0.143581\n",
       "5972     0.017969     0.073396    0.055427\n",
       "5973    -3.082779    -0.726753    2.356026\n",
       "5974     0.004537     0.005178    0.000642\n",
       "5975     1.040715    -0.957400   -1.998116\n",
       "\n",
       "[5976 rows x 3 columns]"
      ]
     },
     "execution_count": 393,
     "metadata": {},
     "output_type": "execute_result"
    }
   ],
   "source": [
    "tetrad_pd"
   ]
  },
  {
   "cell_type": "code",
   "execution_count": 399,
   "metadata": {
    "scrolled": true
   },
   "outputs": [
    {
     "data": {
      "text/plain": [
       "0   -0.003012\n",
       "1   -0.083835\n",
       "2   -0.078313\n",
       "dtype: float64"
      ]
     },
     "execution_count": 399,
     "metadata": {},
     "output_type": "execute_result"
    }
   ],
   "source": [
    "tetrad_pd.iloc[all_t_sep].round().mean()"
   ]
  },
  {
   "cell_type": "code",
   "execution_count": 397,
   "metadata": {
    "scrolled": false
   },
   "outputs": [
    {
     "data": {
      "text/html": [
       "<div>\n",
       "<style scoped>\n",
       "    .dataframe tbody tr th:only-of-type {\n",
       "        vertical-align: middle;\n",
       "    }\n",
       "\n",
       "    .dataframe tbody tr th {\n",
       "        vertical-align: top;\n",
       "    }\n",
       "\n",
       "    .dataframe thead th {\n",
       "        text-align: right;\n",
       "    }\n",
       "</style>\n",
       "<table border=\"1\" class=\"dataframe\">\n",
       "  <thead>\n",
       "    <tr style=\"text-align: right;\">\n",
       "      <th></th>\n",
       "      <th>0</th>\n",
       "      <th>1</th>\n",
       "      <th>2</th>\n",
       "    </tr>\n",
       "  </thead>\n",
       "  <tbody>\n",
       "    <tr>\n",
       "      <th>0</th>\n",
       "      <td>-0.0</td>\n",
       "      <td>-1.0</td>\n",
       "      <td>-0.0</td>\n",
       "    </tr>\n",
       "    <tr>\n",
       "      <th>1</th>\n",
       "      <td>-1794.0</td>\n",
       "      <td>-1642.0</td>\n",
       "      <td>152.0</td>\n",
       "    </tr>\n",
       "    <tr>\n",
       "      <th>2</th>\n",
       "      <td>10.0</td>\n",
       "      <td>23.0</td>\n",
       "      <td>14.0</td>\n",
       "    </tr>\n",
       "    <tr>\n",
       "      <th>3</th>\n",
       "      <td>38.0</td>\n",
       "      <td>32.0</td>\n",
       "      <td>-7.0</td>\n",
       "    </tr>\n",
       "    <tr>\n",
       "      <th>4</th>\n",
       "      <td>-477.0</td>\n",
       "      <td>-407.0</td>\n",
       "      <td>71.0</td>\n",
       "    </tr>\n",
       "    <tr>\n",
       "      <th>...</th>\n",
       "      <td>...</td>\n",
       "      <td>...</td>\n",
       "      <td>...</td>\n",
       "    </tr>\n",
       "    <tr>\n",
       "      <th>1987</th>\n",
       "      <td>33.0</td>\n",
       "      <td>36.0</td>\n",
       "      <td>3.0</td>\n",
       "    </tr>\n",
       "    <tr>\n",
       "      <th>1988</th>\n",
       "      <td>-0.0</td>\n",
       "      <td>-0.0</td>\n",
       "      <td>0.0</td>\n",
       "    </tr>\n",
       "    <tr>\n",
       "      <th>1989</th>\n",
       "      <td>17.0</td>\n",
       "      <td>38.0</td>\n",
       "      <td>21.0</td>\n",
       "    </tr>\n",
       "    <tr>\n",
       "      <th>1990</th>\n",
       "      <td>-11.0</td>\n",
       "      <td>-15.0</td>\n",
       "      <td>-4.0</td>\n",
       "    </tr>\n",
       "    <tr>\n",
       "      <th>1991</th>\n",
       "      <td>148.0</td>\n",
       "      <td>158.0</td>\n",
       "      <td>11.0</td>\n",
       "    </tr>\n",
       "  </tbody>\n",
       "</table>\n",
       "<p>1992 rows × 3 columns</p>\n",
       "</div>"
      ],
      "text/plain": [
       "           0       1      2\n",
       "0       -0.0    -1.0   -0.0\n",
       "1    -1794.0 -1642.0  152.0\n",
       "2       10.0    23.0   14.0\n",
       "3       38.0    32.0   -7.0\n",
       "4     -477.0  -407.0   71.0\n",
       "...      ...     ...    ...\n",
       "1987    33.0    36.0    3.0\n",
       "1988    -0.0    -0.0    0.0\n",
       "1989    17.0    38.0   21.0\n",
       "1990   -11.0   -15.0   -4.0\n",
       "1991   148.0   158.0   11.0\n",
       "\n",
       "[1992 rows x 3 columns]"
      ]
     },
     "execution_count": 397,
     "metadata": {},
     "output_type": "execute_result"
    }
   ],
   "source": [
    "# The noise of this function is calculated in the structural part, meaning that if the structural variables\n",
    "# have no noise, this model will have no noise aswell. \n",
    "tetrad_pd.iloc[no_t_sep].round()"
   ]
  },
  {
   "cell_type": "code",
   "execution_count": 396,
   "metadata": {
    "scrolled": false
   },
   "outputs": [
    {
     "data": {
      "text/html": [
       "<div>\n",
       "<style scoped>\n",
       "    .dataframe tbody tr th:only-of-type {\n",
       "        vertical-align: middle;\n",
       "    }\n",
       "\n",
       "    .dataframe tbody tr th {\n",
       "        vertical-align: top;\n",
       "    }\n",
       "\n",
       "    .dataframe thead th {\n",
       "        text-align: right;\n",
       "    }\n",
       "</style>\n",
       "<table border=\"1\" class=\"dataframe\">\n",
       "  <thead>\n",
       "    <tr style=\"text-align: right;\">\n",
       "      <th></th>\n",
       "      <th>0</th>\n",
       "      <th>1</th>\n",
       "      <th>2</th>\n",
       "    </tr>\n",
       "  </thead>\n",
       "  <tbody>\n",
       "    <tr>\n",
       "      <th>2992</th>\n",
       "      <td>1.474450</td>\n",
       "      <td>-0.047655</td>\n",
       "      <td>-1.522105</td>\n",
       "    </tr>\n",
       "    <tr>\n",
       "      <th>2993</th>\n",
       "      <td>-3.126629</td>\n",
       "      <td>-0.018366</td>\n",
       "      <td>3.108264</td>\n",
       "    </tr>\n",
       "    <tr>\n",
       "      <th>2994</th>\n",
       "      <td>-273.683418</td>\n",
       "      <td>1.080933</td>\n",
       "      <td>274.764351</td>\n",
       "    </tr>\n",
       "    <tr>\n",
       "      <th>2995</th>\n",
       "      <td>-103.372027</td>\n",
       "      <td>0.129250</td>\n",
       "      <td>103.501277</td>\n",
       "    </tr>\n",
       "    <tr>\n",
       "      <th>2996</th>\n",
       "      <td>-0.783469</td>\n",
       "      <td>0.004392</td>\n",
       "      <td>0.787861</td>\n",
       "    </tr>\n",
       "    <tr>\n",
       "      <th>...</th>\n",
       "      <td>...</td>\n",
       "      <td>...</td>\n",
       "      <td>...</td>\n",
       "    </tr>\n",
       "    <tr>\n",
       "      <th>3187</th>\n",
       "      <td>-0.016861</td>\n",
       "      <td>-1.934915</td>\n",
       "      <td>-1.918054</td>\n",
       "    </tr>\n",
       "    <tr>\n",
       "      <th>3188</th>\n",
       "      <td>0.161476</td>\n",
       "      <td>2.614675</td>\n",
       "      <td>2.453199</td>\n",
       "    </tr>\n",
       "    <tr>\n",
       "      <th>3189</th>\n",
       "      <td>-0.064201</td>\n",
       "      <td>-26.216604</td>\n",
       "      <td>-26.152403</td>\n",
       "    </tr>\n",
       "    <tr>\n",
       "      <th>3190</th>\n",
       "      <td>0.000047</td>\n",
       "      <td>0.205831</td>\n",
       "      <td>0.205783</td>\n",
       "    </tr>\n",
       "    <tr>\n",
       "      <th>3191</th>\n",
       "      <td>0.012095</td>\n",
       "      <td>-4.561390</td>\n",
       "      <td>-4.573485</td>\n",
       "    </tr>\n",
       "  </tbody>\n",
       "</table>\n",
       "<p>200 rows × 3 columns</p>\n",
       "</div>"
      ],
      "text/plain": [
       "               0          1           2\n",
       "2992    1.474450  -0.047655   -1.522105\n",
       "2993   -3.126629  -0.018366    3.108264\n",
       "2994 -273.683418   1.080933  274.764351\n",
       "2995 -103.372027   0.129250  103.501277\n",
       "2996   -0.783469   0.004392    0.787861\n",
       "...          ...        ...         ...\n",
       "3187   -0.016861  -1.934915   -1.918054\n",
       "3188    0.161476   2.614675    2.453199\n",
       "3189   -0.064201 -26.216604  -26.152403\n",
       "3190    0.000047   0.205831    0.205783\n",
       "3191    0.012095  -4.561390   -4.573485\n",
       "\n",
       "[200 rows x 3 columns]"
      ]
     },
     "execution_count": 396,
     "metadata": {},
     "output_type": "execute_result"
    }
   ],
   "source": [
    "# The results here are pretty good probably because one of the two latents is a positive linear combination\n",
    "# of two variables, meaning that its values are pretty different from the other latent variable.\n",
    "tetrad_pd.iloc[~tetrad_pd.index.isin(rest_t_sep)].iloc[1000:1200]"
   ]
  },
  {
   "cell_type": "code",
   "execution_count": 46,
   "metadata": {},
   "outputs": [
    {
     "data": {
      "text/plain": [
       "480.0"
      ]
     },
     "execution_count": 46,
     "metadata": {},
     "output_type": "execute_result"
    }
   ],
   "source": [
    "values_pd.shape[0] / 3"
   ]
  },
  {
   "cell_type": "code",
   "execution_count": 55,
   "metadata": {},
   "outputs": [],
   "source": [
    "values_pd = pd.read_csv('generated_data.nosync/gen_values.csv')\n",
    "rn = 699\n",
    "df = pd.DataFrame(np.array(values_pd.iloc[rn]).reshape(4,500)).T\n",
    "df1 = pd.DataFrame(np.array(values_pd.iloc[rn + 1]).reshape(4,500)).T\n",
    "df2 = pd.DataFrame(np.array(values_pd.iloc[rn + 2]).reshape(4,500)).T"
   ]
  },
  {
   "cell_type": "code",
   "execution_count": 56,
   "metadata": {
    "scrolled": false
   },
   "outputs": [
    {
     "data": {
      "image/png": "[encoded data removed]",
      "text/plain": [
       "<Figure size 432x432 with 1 Axes>"
      ]
     },
     "metadata": {
      "needs_background": "light"
     },
     "output_type": "display_data"
    },
    {
     "data": {
      "image/png": "[encoded data removed]",
      "text/plain": [
       "<Figure size 432x432 with 1 Axes>"
      ]
     },
     "metadata": {
      "needs_background": "light"
     },
     "output_type": "display_data"
    },
    {
     "data": {
      "image/png": "[encoded data removed]",
      "text/plain": [
       "<Figure size 432x432 with 1 Axes>"
      ]
     },
     "metadata": {
      "needs_background": "light"
     },
     "output_type": "display_data"
    }
   ],
   "source": [
    "import seaborn as sns\n",
    "\n",
    "fig, ax = plt.subplots(figsize=(6,6))\n",
    "p1=sns.kdeplot(df[0], shade=False)\n",
    "p1=sns.kdeplot(df[1], shade=False)\n",
    "p1=sns.kdeplot(df[2], shade=False)\n",
    "p1=sns.kdeplot(df[3], shade=False)\n",
    "\n",
    "fig, ax = plt.subplots(figsize=(6,6))\n",
    "p2=sns.kdeplot(df1[0], shade=False)\n",
    "p2=sns.kdeplot(df1[1], shade=False)\n",
    "p2=sns.kdeplot(df1[2], shade=False)\n",
    "p2=sns.kdeplot(df1[3], shade=False)\n",
    "\n",
    "fig, ax = plt.subplots(figsize=(6,6))\n",
    "p3=sns.kdeplot(df2[0], shade=False)\n",
    "p3=sns.kdeplot(df2[1], shade=False)\n",
    "p3=sns.kdeplot(df2[2], shade=False)\n",
    "p3=sns.kdeplot(df2[3], shade=False)"
   ]
  },
  {
   "cell_type": "code",
   "execution_count": 20,
   "metadata": {},
   "outputs": [],
   "source": [
    "from scipy.interpolate     import UnivariateSpline as sp\n",
    "from sklearn.mixture import GaussianMixture\n",
    "import numpy as np\n",
    "from sklearn.preprocessing import scale\n",
    "import matplotlib.pyplot as plt\n",
    "\n",
    "\n",
    "def cause(n,k,p1,p2):\n",
    "  g = GaussianMixture(k, covariance_type = 'diag')\n",
    "  g.means_   = p1*np.random.randn(k,1)\n",
    "  g.covariances_  = np.power(abs(p2*np.random.randn(k,1)+1),2)\n",
    "  g.weights_ = abs(np.random.rand(k))\n",
    "  g.weights_ = g.weights_/sum(g.weights_)\n",
    "  return scale(g.sample(n)[0])"
   ]
  },
  {
   "cell_type": "code",
   "execution_count": 23,
   "metadata": {
    "scrolled": true
   },
   "outputs": [
    {
     "data": {
      "text/plain": [
       "array([-0.53768611, -0.55924311, -0.54031065, -0.60467079, -0.54984394,\n",
       "       -0.55907782, -0.49585777, -0.52832575, -0.53235536, -0.53814322,\n",
       "       -0.55798805, -0.57572241, -0.54077924, -0.55236551, -0.51639397,\n",
       "       -0.52873923, -0.52508286, -0.56672805, -0.56397379, -0.5070798 ,\n",
       "       -0.57705603, -0.53468695, -0.54791201, -0.51296586, -0.52373951,\n",
       "       -0.53027239, -0.58386224, -0.49814329, -0.58888397, -0.48815315,\n",
       "       -0.5678085 , -0.50645237, -0.55752404, -0.49883074, -0.49235673,\n",
       "       -0.51506064, -0.53725932, -0.57432974, -0.5581908 , -0.48563631,\n",
       "       -0.55698627, -0.55246076, -0.52763275, -0.50409264, -0.53957834,\n",
       "       -0.54256156, -0.56767407, -0.51693621, -0.5667773 , -0.5183704 ,\n",
       "       -0.56107257, -0.59472286, -0.56262231, -0.54436823, -0.56052326,\n",
       "       -0.53274897, -0.57733481, -0.56271847, -0.599647  , -0.54268541,\n",
       "       -0.59587934, -0.54813888, -0.54950502, -0.54319504, -0.55639073,\n",
       "       -0.56144821, -0.5229645 , -0.55270037, -0.52939279, -0.55152458,\n",
       "       -0.52062846, -0.55138916, -0.58413525, -0.57514656, -0.55915258,\n",
       "       -0.51570412, -0.54675391, -0.54110315, -0.52461018, -0.52877071,\n",
       "       -0.51884075, -0.52565621, -0.5369707 , -0.54933927, -0.56216339,\n",
       "       -0.54185944, -0.58354943, -0.58617559, -0.50649974, -0.55070596,\n",
       "       -0.58037787, -0.5195193 , -0.52511207, -0.55717494, -0.60156298,\n",
       "       -0.57950265, -0.53301402, -0.54127245, -0.53486678, -0.57017499,\n",
       "       -0.6098577 , -0.56156136, -0.500208  , -0.5688248 , -0.54340196,\n",
       "       -0.56375833, -0.53112013, -0.55157852, -0.58201371, -0.49664277,\n",
       "       -0.55283722, -0.50278155, -0.58371577, -0.54406982, -0.53812697,\n",
       "       -0.54178591, -0.59615259, -0.57554516, -0.55258918, -0.55201628,\n",
       "       -0.52423511, -0.54059606, -0.50886442, -0.55228244, -0.56117772,\n",
       "       -0.59919116, -0.48880328, -0.52483408, -0.56973379, -0.5121171 ,\n",
       "       -0.54380768, -0.58133675, -0.58726386, -0.50537535, -0.54877856,\n",
       "       -0.56705663, -0.56177661, -0.54955819, -0.52849826, -0.5506302 ,\n",
       "       -0.56955366, -0.56719966, -0.50738523, -0.5646505 , -0.53826874,\n",
       "       -0.58421989, -0.5513986 , -0.55825987, -0.55849164, -0.54724125,\n",
       "       -0.57368388, -0.55142847, -0.57778098, -0.50382623, -0.56336007,\n",
       "       -0.53693682, -0.55230192, -0.57029016, -0.54948608, -0.55529456,\n",
       "       -0.52092186, -0.50778626, -0.51437355, -0.57197286, -0.51804319,\n",
       "       -0.56339046, -0.48148188, -0.53008589, -0.5692518 , -0.5343681 ,\n",
       "       -0.55089961, -0.579843  , -0.5628973 , -0.55824429, -0.52588248,\n",
       "       -0.59353825, -0.56321281, -0.53202373, -0.55026946, -0.53163398,\n",
       "       -0.54593883, -0.57205794, -0.57907681, -0.5573248 , -0.50995152,\n",
       "       -0.5477259 , -0.55141607, -0.54819394, -0.59013327, -0.57868119,\n",
       "       -0.5504207 , -0.5815176 , -0.5291822 , -0.58512285, -0.5290395 ,\n",
       "       -0.54368523, -0.53194436, -0.52441005, -0.55104188, -0.56404956,\n",
       "       -0.52638958, -0.49309923, -0.5976393 , -0.53367152, -0.53726099,\n",
       "       -0.53681889, -0.56888532, -0.52030934, -0.54950325, -0.53753693,\n",
       "       -0.53194683, -0.54908077, -0.49498589, -0.4683018 , -0.57163696,\n",
       "       -0.5341211 , -0.51194933, -0.59817824, -0.58287853, -0.60162674,\n",
       "       -0.55441215, -0.49905049, -0.51425084, -0.51054249, -0.56271792,\n",
       "       -0.51942136, -0.52807827, -0.53452865, -0.58960841, -0.55829599,\n",
       "       -0.53366804, -0.58180797, -0.54997579, -0.57520944, -0.53507871,\n",
       "       -0.52590747, -0.51897546, -0.56630703, -0.51214858, -0.51116334,\n",
       "       -0.55920207, -0.54327863, -0.59975659, -0.51110027, -0.51304578,\n",
       "       -0.58487114, -0.56521566, -0.56898415, -0.54845977, -0.50193317,\n",
       "       -0.54964403, -0.55591797, -0.56357992, -0.55778355, -0.54027438,\n",
       "       -0.52865727, -0.56014   , -0.55667653, -0.62746303, -0.5524309 ,\n",
       "       -0.52412175, -0.54024914, -0.48715256, -0.56637403, -0.52553194,\n",
       "       -0.55422728, -0.51172872, -0.55425533, -0.51995355, -0.51072371,\n",
       "       -0.51314156, -0.54272958, -0.5671573 , -0.57617834, -0.5593681 ,\n",
       "       -0.55292642, -0.54135466, -0.57118422, -0.50979846, -0.53028614,\n",
       "       -0.61717636, -0.55823878, -0.52832769, -0.57893793, -0.56195674,\n",
       "       -0.53368429, -0.50303073, -0.54128869, -0.54701531, -0.5080577 ,\n",
       "       -0.53817766, -0.57445666, -0.54520995, -0.51450894, -0.560518  ,\n",
       "       -0.48130279, -0.54669923, -0.47298525, -0.55043481, -0.57221569,\n",
       "       -0.55332021, -0.54444694, -0.54874816, -0.56771914, -0.54214691,\n",
       "       -0.54392346, -0.5518762 , -0.55013862, -0.54099975, -0.54582423,\n",
       "       -0.59184943, -0.52395813, -0.51592417, -0.57393835, -0.55381566,\n",
       "       -0.55282771, -0.52836494, -0.53392816, -0.5229307 , -0.53668489,\n",
       "       -0.50689741, -0.507325  , -0.57108664, -0.52817348, -0.54067198,\n",
       "       -0.50368691, -0.50376945, -0.58516053, -0.51461433, -0.5675603 ,\n",
       "       -0.56497729, -0.57874351, -0.56884218, -0.55190547, -0.55151551,\n",
       "       -0.52825473, -0.51645628, -0.51372216, -0.50420371, -0.5343178 ,\n",
       "       -0.54427457, -0.59272211, -0.55547271, -0.53443016, -0.53402862,\n",
       "       -0.51767805, -0.52194729, -0.57662026, -0.54737641, -0.5300511 ,\n",
       "       -0.50849573, -0.51284763, -0.55499703, -0.53026148, -0.55956327,\n",
       "       -0.53935747, -0.51605826, -0.59602864, -0.52575819, -0.53363779,\n",
       "       -0.52799767, -0.55020821, -0.53425642, -0.53453568, -0.55599308,\n",
       "       -0.59853866, -0.55044023, -0.57080352, -0.52948955, -0.52941276,\n",
       "       -0.533197  , -0.54259387, -0.57400973, -0.57273039, -0.56260786,\n",
       "       -0.56984281, -0.48650883, -0.53014532, -0.530115  , -0.58236513,\n",
       "       -0.58754903, -0.59441115, -0.58315447, -0.59883744, -0.58426124,\n",
       "       -0.60045957, -0.59218993, -0.58897983, -0.5989012 , -0.57830253,\n",
       "       -0.58203087, -0.60473392, -0.57111801, -0.57269562, -0.60335217,\n",
       "       -0.58320506, -0.59145175, -0.58311212, -0.59470718, -0.58930643,\n",
       "       -0.57542915, -0.55872379, -0.59715658, -0.58377613, -0.58929799,\n",
       "       -0.56114016, -0.56549437, -0.57741657, -0.57973003, -0.58716186,\n",
       "       -0.56716292, -0.55437458, -0.58582759, -0.59678305, -0.57680798,\n",
       "       -0.60452668, -0.57011348, -0.58270872, -0.57847605, -0.58691725,\n",
       "       -0.59060958, -0.60390539, -0.59980711, -0.58345183, -0.59127069,\n",
       "       -0.57786825, -0.56630924, -0.60655114, -0.58329169, -0.57247584,\n",
       "       -0.58818404, -0.59065623, -0.60286026, -0.59784065, -0.5762002 ,\n",
       "       -0.55990724, -0.56879167, -0.60467082, -0.56266149, -0.57782577,\n",
       "       -0.55574916, -0.57533712, -0.60753614, -0.57737365, -0.59060258,\n",
       "       -0.55553558, -0.58682177, -0.56760123, -0.60721702, -0.54786439,\n",
       "       -0.57770442, -0.57245205, -0.58850142, -0.584237  , -0.56965928,\n",
       "       -0.60136173, -0.56453534, -0.58447346, -0.59886331, -0.58553813,\n",
       "       -0.5809686 , -0.57213075, -0.59470686, -0.59277386, -0.57695891,\n",
       "       -0.56291231, -0.59045035, -0.59449404, -0.57295808, -0.59044252,\n",
       "       -0.58209532, -0.58255983, -0.56943713, -0.58436483, -0.5871899 ,\n",
       "       -0.58198541, -0.59640668, -0.60504487, -0.60163548, -0.57503236,\n",
       "       -0.59550003, -0.57261279, -0.56549367, -0.58744858, -0.58805731,\n",
       "       -0.57502066, -0.5679834 , -0.58423841, -0.58437211, -0.59628858,\n",
       "       -0.60790827, -0.59936311, -0.57722752, -0.58077915, -0.61216341,\n",
       "       -0.59566838, -0.60555951, -0.57892131, -0.59654297, -0.57213713,\n",
       "       -0.55680112, -0.58479513, -0.58102176, -0.58688542, -0.58725815,\n",
       "       -0.59052644, -0.58669326, -0.5942354 , -0.58687521, -0.5417592 ,\n",
       "       -0.58115431, -0.58353221, -0.56109127, -0.60277505, -0.60066276,\n",
       "       -0.60536621, -0.57481249, -0.5755369 , -0.60196998, -0.5988499 ,\n",
       "       -0.60724599, -0.59565206, -0.58901152, -0.5956703 , -0.59129824,\n",
       "       -0.59790022, -0.57315702, -0.59045553, -0.57498753, -0.59787145,\n",
       "       -0.59026133, -0.59575442, -0.60164093, -0.559078  , -0.57970228,\n",
       "       -0.59316979, -0.57519975, -0.56378274, -0.59774142, -0.57865531,\n",
       "       -0.58487658, -0.59165515, -0.57331371, -0.58711341, -0.58130794,\n",
       "       -0.60981623, -0.61468529, -0.6070349 , -0.59544064, -0.60408562,\n",
       "       -0.58361254, -0.56109237, -0.5922409 , -0.58375036, -0.58046765,\n",
       "       -0.57812206, -0.59486889, -0.60488751, -0.58179021, -0.5557969 ,\n",
       "       -0.58984409, -0.61647632, -0.60839778, -0.57817308, -0.58177202,\n",
       "       -0.6038042 , -0.59244651, -0.59571792, -0.58386803, -0.60277108,\n",
       "       -0.61880791, -0.57639481, -0.59367343, -0.57271064, -0.58855243,\n",
       "       -0.5896723 , -0.60622652, -0.57909967, -0.59487094, -0.60151446,\n",
       "       -0.56101   , -0.58632053, -0.56426691, -0.59184216, -0.57297201,\n",
       "       -0.59821329, -0.58045802, -0.59330733, -0.59555697, -0.58863969,\n",
       "       -0.59133833, -0.59330375, -0.57840543, -0.56187019, -0.57158757,\n",
       "       -0.63170912, -0.60135424, -0.57658556, -0.59324179, -0.57725438,\n",
       "       -0.60573387, -0.59150476, -0.60240866, -0.58498371, -0.60239972,\n",
       "       -0.58891647, -0.61611857, -0.60517067, -0.59153489, -0.57822596,\n",
       "       -0.58334687, -0.622194  , -0.60632729, -0.57382524, -0.585942  ,\n",
       "       -0.58690617, -0.58924806, -0.5859013 , -0.60536092, -0.590894  ,\n",
       "       -0.60541953, -0.56490841, -0.58786122, -0.58305451, -0.54321563,\n",
       "       -0.59551514, -0.5747568 , -0.57930206, -0.57272499, -0.54151873,\n",
       "       -0.57970626, -0.57652971, -0.56160418, -0.5848794 , -0.58243057,\n",
       "       -0.55129095, -0.58554115, -0.58433422, -0.57189956, -0.55951743,\n",
       "       -0.60527192, -0.57416178, -0.58500244, -0.59275216, -0.6101266 ,\n",
       "       -0.57727947, -0.57690703, -0.57706445, -0.56730618, -0.56986261,\n",
       "       -0.59874775, -0.59954889, -0.57457389, -0.56871381, -0.58943628,\n",
       "       -0.56527253, -0.5865479 , -0.56777051, -0.57154172, -0.57278187,\n",
       "       -0.59671974, -0.57959677, -0.58082391, -0.58022804, -0.56787694,\n",
       "       -0.59970913, -0.56135663, -0.59060677, -0.57747733, -0.60817275,\n",
       "       -0.62261595, -0.58008655, -0.58310472, -0.6336296 , -0.57259413,\n",
       "       -0.61034814, -0.59781717, -0.58762075, -0.57761905, -0.58029761,\n",
       "       -0.55872655, -0.56571721, -0.57203233, -0.60278377, -0.5930425 ,\n",
       "       -0.59128853, -0.60139073, -0.56224573, -0.58447436, -0.59636896,\n",
       "       -0.57987406, -0.5895463 , -0.5968875 , -0.58850462, -0.57041658,\n",
       "       -0.56915386, -0.58141906, -0.58456096, -0.60663333, -0.5826591 ,\n",
       "       -0.60671332, -0.59391926, -0.58983825, -0.59540323, -0.57799182,\n",
       "       -0.59554472, -0.58447038, -0.58875226, -0.57302515, -0.56913979,\n",
       "       -0.58033563, -0.60385432, -0.60350883, -0.59540801, -0.57780472,\n",
       "       -0.6050429 , -0.56872855, -0.59580509, -0.56259644, -0.59286863,\n",
       "       -0.5753296 , -0.58314971, -0.6096893 , -0.58652917, -0.60772596,\n",
       "       -0.57806741, -0.60445601, -0.60440523, -0.58014629, -0.59285072,\n",
       "       -0.58816819, -0.57945139, -0.58574414, -0.59163494, -0.59803281,\n",
       "       -0.56800361, -0.59437609, -0.57321592, -0.56972452, -0.59292748,\n",
       "       -0.59719186, -0.56612158, -0.61166347, -0.53965001, -0.55649205,\n",
       "       -0.57151605, -0.58624145, -0.56656133, -0.61455127, -0.59306607,\n",
       "       -0.59825183, -0.60783008, -0.6142855 , -0.57413102, -0.58088734,\n",
       "       -0.56899586, -0.59443918, -0.60628188, -0.60333298, -0.57711333,\n",
       "       -0.57255435, -0.61176742, -0.57996418, -0.60286576, -0.59129385,\n",
       "       -0.5783138 , -0.55696907, -0.60598316, -0.59430405, -0.57414969,\n",
       "       -0.52979898, -0.48727439, -0.52248292, -0.50326104, -0.58356399,\n",
       "       -0.53613003, -0.54537255, -0.55406413, -0.45524785, -0.54216805,\n",
       "       -0.6121964 , -0.55737378, -0.5556611 , -0.53532408, -0.64084947,\n",
       "       -0.54042423, -0.47521545, -0.49551761, -0.53592884, -0.6162456 ,\n",
       "       -0.56874228, -0.55139986, -0.54242294, -0.57565331, -0.48155882,\n",
       "       -0.48066726, -0.54230405, -0.66433234, -0.53730315, -0.56633795,\n",
       "       -0.5291955 , -0.52185914, -0.54775697, -0.4756632 , -0.60846784,\n",
       "       -0.56016861, -0.52159945, -0.48751093, -0.56036862, -0.56234791,\n",
       "       -0.57220659, -0.60927467, -0.58020104, -0.54033212, -0.61772192,\n",
       "       -0.5719893 , -0.60591007, -0.54318759, -0.59686363, -0.50085667,\n",
       "       -0.45473886, -0.57174214, -0.496632  , -0.42475082, -0.63733084,\n",
       "       -0.56822979, -0.54444375, -0.52627213, -0.40376666, -0.49566603,\n",
       "       -0.50616296, -0.56103397, -0.56760607, -0.61581165, -0.50876823,\n",
       "       -0.52348233, -0.57297161, -0.49948527, -0.53409336, -0.5793926 ,\n",
       "       -0.52678626, -0.55517081, -0.60216354, -0.53305983, -0.48305634,\n",
       "       -0.59848234, -0.51561467, -0.53608545, -0.62625586, -0.51606935,\n",
       "       -0.65131065, -0.57400971, -0.41486319, -0.51447638, -0.59276   ,\n",
       "       -0.61314775, -0.49292876, -0.58560076, -0.45320498, -0.57451469,\n",
       "       -0.53295531, -0.50456706, -0.52818491, -0.53819558, -0.53953358,\n",
       "       -0.43818992, -0.50374917, -0.5261926 , -0.587577  , -0.59926705,\n",
       "       -0.62007587, -0.64322715, -0.50410709, -0.60916581, -0.5185689 ,\n",
       "       -0.50918439, -0.45036131, -0.54633735, -0.5243338 , -0.55421871,\n",
       "       -0.47059976, -0.53863929, -0.58588244, -0.67006059, -0.58839517,\n",
       "       -0.54787914, -0.45750822, -0.60223544, -0.65640315, -0.52334854,\n",
       "       -0.55727184, -0.53435964, -0.4530462 , -0.51102751, -0.49207463,\n",
       "       -0.55423306, -0.55882762, -0.59455896, -0.60436495, -0.49803331,\n",
       "       -0.51278854, -0.58036445, -0.57076817, -0.53824002, -0.4628306 ,\n",
       "       -0.51394787, -0.52630996, -0.46872913, -0.50727202, -0.54857554,\n",
       "       -0.54834771, -0.53605468, -0.55409401, -0.44152162, -0.53546476,\n",
       "       -0.4284643 , -0.47658212, -0.51954824, -0.56560958, -0.47928802,\n",
       "       -0.57259428, -0.49847159, -0.49128393, -0.54070946, -0.61515144,\n",
       "       -0.52626935, -0.49217213, -0.52277788, -0.66180671, -0.57224605,\n",
       "       -0.59303344, -0.54678656, -0.56099832, -0.53184611, -0.52881447,\n",
       "       -0.46411782, -0.51163125, -0.57944643, -0.55649251, -0.50861349,\n",
       "       -0.50192208, -0.52641912, -0.61252046, -0.51014789, -0.55354273,\n",
       "       -0.55230778, -0.55827272, -0.52962904, -0.60938558, -0.50847295,\n",
       "       -0.57468056, -0.61088865, -0.55794042, -0.6112887 , -0.51383094,\n",
       "       -0.50167535, -0.56078017, -0.58482568, -0.65652205, -0.52025019,\n",
       "       -0.54921825, -0.63841293, -0.50476481, -0.53867855, -0.62548039,\n",
       "       -0.54082961, -0.49503935, -0.5629486 , -0.48297334, -0.51661401,\n",
       "       -0.46208005, -0.47975154, -0.49827795, -0.52238938, -0.58776558,\n",
       "       -0.60732615, -0.62518343, -0.53196719, -0.57757687, -0.63056866,\n",
       "       -0.58368505, -0.56438917, -0.58173942, -0.54411277, -0.55507153,\n",
       "       -0.43017761, -0.54993531, -0.61505584, -0.56242908, -0.61674414,\n",
       "       -0.55566474, -0.51818919, -0.52889912, -0.52419628, -0.67381526,\n",
       "       -0.61365744, -0.482636  , -0.51482074, -0.57876513, -0.53161302])"
      ]
     },
     "execution_count": 23,
     "metadata": {},
     "output_type": "execute_result"
    }
   ],
   "source": [
    "x = cause(1000,3,2,2)\n",
    "d = 2\n",
    "g = np.linspace(min(x)-np.std(x),max(x)+np.std(x),d)\n",
    "sp(g, np.random.randn(d), k=(1))(x.flatten())[:,np.newaxis]\n"
   ]
  },
  {
   "cell_type": "code",
   "execution_count": null,
   "metadata": {},
   "outputs": [],
   "source": []
  }
 ],
 "metadata": {
  "kernelspec": {
   "display_name": "thesis",
   "language": "python",
   "name": "thesis"
  },
  "language_info": {
   "codemirror_mode": {
    "name": "ipython",
    "version": 3
   },
   "file_extension": ".py",
   "mimetype": "text/x-python",
   "name": "python",
   "nbconvert_exporter": "python",
   "pygments_lexer": "ipython3",
   "version": "3.8.5"
  }
 },
 "nbformat": 4,
 "nbformat_minor": 2
}
