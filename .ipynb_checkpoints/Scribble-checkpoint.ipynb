{
 "cells": [
  {
   "cell_type": "code",
   "execution_count": 93,
   "metadata": {},
   "outputs": [
    {
     "name": "stdout",
     "output_type": "stream",
     "text": [
      "<__main__.ChainLink object at 0x10a97b550>\n",
      "<__main__.ChainLink object at 0x10a97b518>\n",
      "<__main__.ChainLink object at 0x10a8ec748>\n",
      "<__main__.ChainLink object at 0x10a8ec400>\n",
      "None\n",
      "2\n",
      "0\n",
      "Side.right\n"
     ]
    }
   ],
   "source": [
    "from enum import Enum\n",
    "import copy\n",
    "\n",
    "class Side(Enum):\n",
    "    none = 0\n",
    "    left = 1\n",
    "    right = 2\n",
    "\n",
    "class ChainLink:\n",
    "\n",
    "    def __init__(self):\n",
    "        self._left = None\n",
    "        self._right = None\n",
    "\n",
    "    def append(self, link):\n",
    "        if self._right is not None: raise Exception('Link already connected!')\n",
    "        self._right = link\n",
    "        link._left = self\n",
    "        print(link)\n",
    "\n",
    "    def longer_side(self):\n",
    "        repeat_l = copy.copy(self._left)\n",
    "        l = copy.copy(self._left)\n",
    "        repeat_r = r = copy.copy(self._right)\n",
    "        l_count = 0\n",
    "        r_count = 0\n",
    "        l_bool = r_bool = circ_bool = True\n",
    "        while circ_bool:\n",
    "            if (l == None):\n",
    "                break\n",
    "            if (l._left == repeat_l) and (l._right == repeat_r):\n",
    "                return(Side.none)\n",
    "            l = copy.copy(l._left)\n",
    "\n",
    "        while l_bool:\n",
    "            print(l)\n",
    "            if (l != None):\n",
    "                l = copy.copy(l._left)\n",
    "                l_count += 1\n",
    "            else:\n",
    "                l_bool = False\n",
    "        while r_bool:\n",
    "            if (r != None):\n",
    "                r = r._right\n",
    "                r_count += 1\n",
    "            else:\n",
    "                r_bool = False\n",
    "        print(r_count)\n",
    "        print(l_count)\n",
    "        if r_count > l_count:\n",
    "            return(Side.right)\n",
    "        elif l_count > r_count:\n",
    "            return(Side.left)\n",
    "        else:\n",
    "            return(Side.none)\n",
    "\n",
    "left = ChainLink()\n",
    "middle = ChainLink()\n",
    "right = ChainLink()\n",
    "lleft = ChainLink()\n",
    "llleft = ChainLink()\n",
    "left.append(middle)\n",
    "lleft.append(left)\n",
    "llleft.append(lleft)\n",
    "middle.append(right)\n",
    "#right.append(left)\n",
    "#print(left.longer_side() == Side.right)\n",
    "print(left.longer_side())"
   ]
  },
  {
   "cell_type": "code",
   "execution_count": 90,
   "metadata": {},
   "outputs": [
    {
     "name": "stdout",
     "output_type": "stream",
     "text": [
      "True\n"
     ]
    }
   ],
   "source": [
    "from enum import Enum\n",
    "\n",
    "class Side(Enum):\n",
    "    none = 0\n",
    "    left = 1\n",
    "    right = 2\n",
    "\n",
    "class ChainLink:\n",
    "\n",
    "    def __init__(self):\n",
    "        self._left = None\n",
    "        self._right = None\n",
    "\n",
    "    def append(self, link):\n",
    "        if self._right is not None: raise Exception('Link already connected!')\n",
    "        self._right = link\n",
    "        link._left = self\n",
    "\n",
    "    def longer_side(self):\n",
    "        repeat_l = self._left\n",
    "        repeat_r = self._right\n",
    "        l = self._left\n",
    "        r = self._right\n",
    "        l_count = 0\n",
    "        r_count = 0\n",
    "        l_bool = r_bool = circ_bool = True\n",
    "        while circ_bool:\n",
    "            if (l == None):\n",
    "                break\n",
    "            l = l._left\n",
    "            if (l.left == repeat_l) and (l.right == repeat_r):\n",
    "                return(Side.none)\n",
    "        while l_bool:\n",
    "            if (l != None):\n",
    "                l = l._left\n",
    "                l_count += 1\n",
    "            else:\n",
    "                l_bool = False\n",
    "        while r_bool:\n",
    "            if (r != None):\n",
    "                r = r._right\n",
    "                r_count += 1\n",
    "            else:\n",
    "                r_bool = False\n",
    "        if r_count > l_count:\n",
    "            return(Side.right)\n",
    "        elif l_count > r_count:\n",
    "            return(Side.left)\n",
    "        else:\n",
    "            return(Side.none)\n",
    "\n",
    "left = ChainLink()\n",
    "middle = ChainLink()\n",
    "right = ChainLink()\n",
    "left.append(middle)\n",
    "middle.append(right)\n",
    "print(left.longer_side() == Side.right)"
   ]
  },
  {
   "cell_type": "code",
   "execution_count": null,
   "metadata": {},
   "outputs": [],
   "source": []
  },
  {
   "cell_type": "code",
   "execution_count": 30,
   "metadata": {},
   "outputs": [],
   "source": [
    "import collections\n",
    "\n",
    "class TrainComposition:\n",
    "    \n",
    "    def __init__(self):\n",
    "        self.deque = collections.deque()\n",
    "    \n",
    "    def attach_wagon_from_left(self, wagonId):\n",
    "        self.deque.appendleft(wagonId)\n",
    "    \n",
    "    def attach_wagon_from_right(self, wagonId):\n",
    "        self.deque.append(wagonId)\n",
    "\n",
    "    def detach_wagon_from_left(self):\n",
    "        return(self.deque.popleft())\n",
    "    \n",
    "    def detach_wagon_from_right(self):\n",
    "        return(self.deque.pop())"
   ]
  },
  {
   "cell_type": "code",
   "execution_count": 31,
   "metadata": {},
   "outputs": [
    {
     "name": "stdout",
     "output_type": "stream",
     "text": [
      "7\n",
      "13\n"
     ]
    }
   ],
   "source": [
    "if __name__ == \"__main__\":\n",
    "    train = TrainComposition()\n",
    "    train.attach_wagon_from_left(7)\n",
    "    train.attach_wagon_from_left(13)\n",
    "    print(train.detach_wagon_from_right()) # should print 7\n",
    "    print(train.detach_wagon_from_left()) # should print 13"
   ]
  },
  {
   "cell_type": "code",
   "execution_count": null,
   "metadata": {},
   "outputs": [],
   "source": []
  }
 ],
 "metadata": {
  "kernelspec": {
   "display_name": "thesis-env",
   "language": "python",
   "name": "thesis-env"
  },
  "language_info": {
   "codemirror_mode": {
    "name": "ipython",
    "version": 3
   },
   "file_extension": ".py",
   "mimetype": "text/x-python",
   "name": "python",
   "nbconvert_exporter": "python",
   "pygments_lexer": "ipython3",
   "version": "3.6.8"
  }
 },
 "nbformat": 4,
 "nbformat_minor": 2
}
